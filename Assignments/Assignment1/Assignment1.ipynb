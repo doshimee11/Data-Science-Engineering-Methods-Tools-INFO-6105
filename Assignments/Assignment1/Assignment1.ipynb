{
  "nbformat": 4,
  "nbformat_minor": 0,
  "metadata": {
    "colab": {
      "provenance": [],
      "collapsed_sections": []
    },
    "kernelspec": {
      "name": "python3",
      "display_name": "Python 3"
    },
    "language_info": {
      "name": "python"
    }
  },
  "cells": [
    {
      "cell_type": "markdown",
      "source": [
        "# **Python Coding Exercise Assignment 1**"
      ],
      "metadata": {
        "id": "NMM0kEiALuqE"
      }
    },
    {
      "cell_type": "markdown",
      "source": [
        "**# 1. Perform the following list operations:**"
      ],
      "metadata": {
        "id": "ycrWcKk22eIO"
      }
    },
    {
      "cell_type": "code",
      "execution_count": 1,
      "metadata": {
        "colab": {
          "base_uri": "https://localhost:8080/"
        },
        "id": "LQLBVbNrgTi3",
        "outputId": "ee504c6b-70b7-4a11-e6a2-4afe536900bc"
      },
      "outputs": [
        {
          "output_type": "stream",
          "name": "stdout",
          "text": [
            "Random List generated is: [10, 405, 498, 323, 244, 462, 397, 382, 165, 48]\n"
          ]
        }
      ],
      "source": [
        "from pandas.core.window.rolling import Axis\n",
        "import random\n",
        "import pandas as pd\n",
        "\n",
        "rlist = []\n",
        "\n",
        "for i in range(0,10):\n",
        "  n = random.randint(1,500)\n",
        "  rlist.append(n)\n",
        "\n",
        "print(\"Random List generated is:\",rlist)"
      ]
    },
    {
      "cell_type": "code",
      "source": [
        "# a. maximum number in a list of numbers,\n",
        "maxnum = max(rlist)\n",
        "\n",
        "print(\"A. Maximum Number of the list:\",maxnum)"
      ],
      "metadata": {
        "colab": {
          "base_uri": "https://localhost:8080/"
        },
        "id": "Q_q8i0Me2y8I",
        "outputId": "3b6dad72-d872-45e0-d017-6d455a5ca9be"
      },
      "execution_count": 2,
      "outputs": [
        {
          "output_type": "stream",
          "name": "stdout",
          "text": [
            "A. Maximum Number of the list: 498\n"
          ]
        }
      ]
    },
    {
      "cell_type": "code",
      "source": [
        "# b. concatenate two lists,\n",
        "rlist1 = []\n",
        "\n",
        "for i in range(0,10):\n",
        "  n = random.randint(1,500)\n",
        "  rlist1.append(n)\n",
        "\n",
        "print(\"2nd Random List generated:\",rlist1)\n",
        "print(\"\\n\")\n",
        "\n",
        "concatlist = rlist + rlist1\n",
        "\n",
        "print(\"B. Concatenated Lists:\",concatlist)"
      ],
      "metadata": {
        "colab": {
          "base_uri": "https://localhost:8080/"
        },
        "id": "HFlOpL-G24XI",
        "outputId": "fac3b5cf-0556-4b16-fd9f-8802af08ace4"
      },
      "execution_count": 3,
      "outputs": [
        {
          "output_type": "stream",
          "name": "stdout",
          "text": [
            "2nd Random List generated: [41, 274, 21, 340, 95, 189, 375, 145, 215, 187]\n",
            "\n",
            "\n",
            "B. Concatenated Lists: [10, 405, 498, 323, 244, 462, 397, 382, 165, 48, 41, 274, 21, 340, 95, 189, 375, 145, 215, 187]\n"
          ]
        }
      ]
    },
    {
      "cell_type": "code",
      "source": [
        "# c. reverse a list,\n",
        "rev = rlist[::-1]\n",
        "\n",
        "print(\"C. Reversed List:\",rev)"
      ],
      "metadata": {
        "colab": {
          "base_uri": "https://localhost:8080/"
        },
        "id": "cXIPwm4p26xx",
        "outputId": "3be2c0ad-6f56-4a61-c2da-ad4691f2b182"
      },
      "execution_count": 4,
      "outputs": [
        {
          "output_type": "stream",
          "name": "stdout",
          "text": [
            "C. Reversed List: [48, 165, 382, 397, 462, 244, 323, 498, 405, 10]\n"
          ]
        }
      ]
    },
    {
      "cell_type": "code",
      "source": [
        "# d. interchange the first and the last elements in a list,\n",
        "def swapList(rlist):\n",
        "  rlist[0], rlist[-1] = rlist[-1], rlist[0]\n",
        "  return rlist\n",
        "\n",
        "print(\"D. Interchange of elements in a list:\",swapList(rlist))"
      ],
      "metadata": {
        "colab": {
          "base_uri": "https://localhost:8080/"
        },
        "id": "aWYE1s8f28nR",
        "outputId": "fb88eccc-631b-4012-fcfd-6e4ec4e018e6"
      },
      "execution_count": 5,
      "outputs": [
        {
          "output_type": "stream",
          "name": "stdout",
          "text": [
            "D. Interchange of elements in a list: [48, 405, 498, 323, 244, 462, 397, 382, 165, 10]\n"
          ]
        }
      ]
    },
    {
      "cell_type": "code",
      "source": [
        "# e. search if a given string is a substring of a list of strings.\n",
        "str_list = ['girns','girts','grins','grist','grits','rings','sting','tings']\n",
        "print (\"E. The Original String List is:\",str(str_list))\n",
        "substr = 'rin'\n",
        "res = [i for i in str_list if substr in i]\n",
        "\n",
        "print(\"String of Substring:\",str(res))"
      ],
      "metadata": {
        "colab": {
          "base_uri": "https://localhost:8080/"
        },
        "id": "3K_YAC8e2-TH",
        "outputId": "2dcd82dd-5ecc-4296-f008-64861f323106"
      },
      "execution_count": 6,
      "outputs": [
        {
          "output_type": "stream",
          "name": "stdout",
          "text": [
            "E. The Original String List is: ['girns', 'girts', 'grins', 'grist', 'grits', 'rings', 'sting', 'tings']\n",
            "String of Substring: ['grins', 'rings']\n"
          ]
        }
      ]
    },
    {
      "cell_type": "markdown",
      "source": [
        "**# 2. Write a Python program to delete an element from a list by index.**"
      ],
      "metadata": {
        "id": "y4o581703Lb-"
      }
    },
    {
      "cell_type": "code",
      "source": [
        "print(\"Random list generated is:\",rlist)\n",
        "\n",
        "rlist.pop(4)\n",
        "\n",
        "print(\"Deleted element list at position 1:\",rlist)"
      ],
      "metadata": {
        "id": "63FYE8lW0BHO",
        "colab": {
          "base_uri": "https://localhost:8080/"
        },
        "outputId": "697cff3e-7aac-481f-99de-35f1727765c8"
      },
      "execution_count": 38,
      "outputs": [
        {
          "output_type": "stream",
          "name": "stdout",
          "text": [
            "Random list generated is: [48, 405, 498, 323, 462, 397, 382, 165, 10]\n",
            "Deleted element list at position 1: [48, 405, 498, 323, 397, 382, 165, 10]\n"
          ]
        }
      ]
    },
    {
      "cell_type": "markdown",
      "source": [
        "**# 3. Write a Python program to check whether the given number is even or not**"
      ],
      "metadata": {
        "id": "OLiXrgxF3R9C"
      }
    },
    {
      "cell_type": "code",
      "source": [
        "num = int(input(\"Enter Number here:\"))\n",
        "print(\"Number is:\",num)\n",
        "\n",
        "if (num%2) == 0:\n",
        "  print(\"The Number is Even\")\n",
        "else:\n",
        "  print(\"The Number is Odd\")"
      ],
      "metadata": {
        "colab": {
          "base_uri": "https://localhost:8080/"
        },
        "id": "n7tjd-p-7rsT",
        "outputId": "5873f4b0-6879-422b-df78-c1e36cc75beb"
      },
      "execution_count": 143,
      "outputs": [
        {
          "output_type": "stream",
          "name": "stdout",
          "text": [
            "Enter Number here:78\n",
            "Number is: 78\n",
            "The Number is Even\n"
          ]
        }
      ]
    },
    {
      "cell_type": "markdown",
      "source": [
        "**# 4. Write a program which can compute the factorial of a given number. Make sure to take into account the exceptions like a negative number.**"
      ],
      "metadata": {
        "id": "7zQFxZ2t3dAo"
      }
    },
    {
      "cell_type": "code",
      "source": [
        "def factorial(n):\n",
        "  if n == 0:\n",
        "    return 1\n",
        "  return n*factorial(n-1)\n",
        "\n",
        "num = int(input(\"Enter Number here:\"))\n",
        "print(\"Factorial of\", num, \"is\", factorial(num))"
      ],
      "metadata": {
        "colab": {
          "base_uri": "https://localhost:8080/"
        },
        "id": "p85zjjyN-iEj",
        "outputId": "3332a6ba-8937-4953-fb9b-d1e0fef6d387"
      },
      "execution_count": 144,
      "outputs": [
        {
          "output_type": "stream",
          "name": "stdout",
          "text": [
            "Enter Number here:6\n",
            "Factorial of 6 is 720\n"
          ]
        }
      ]
    },
    {
      "cell_type": "markdown",
      "source": [
        "**# 5. Write a Python program to create a dictionary and display both the keys and values sorted in alphabetical order by the key.**"
      ],
      "metadata": {
        "id": "aifRAiAT3ini"
      }
    },
    {
      "cell_type": "code",
      "source": [
        "dict1 = {'Mango':5,'Pineapple':4,'Grapefruit':2,'Guava':1,'Lemon':3}\n",
        "print(\"Dictionary with the use of Integer Keys: \")\n",
        "print(dict1)\n",
        "print(\"\\n\")\n",
        "print(\"Alphabetically sorted dictionary is:\")\n",
        "\n",
        "for key in sorted(dict1):\n",
        "    print(key, dict1[key])"
      ],
      "metadata": {
        "id": "InY8BLy7AoxE",
        "colab": {
          "base_uri": "https://localhost:8080/"
        },
        "outputId": "9b6df497-d81f-4f56-9251-794b5432f928"
      },
      "execution_count": 8,
      "outputs": [
        {
          "output_type": "stream",
          "name": "stdout",
          "text": [
            "Dictionary with the use of Integer Keys: \n",
            "{'Mango': 5, 'Pineapple': 4, 'Grapefruit': 2, 'Guava': 1, 'Lemon': 3}\n",
            "\n",
            "\n",
            "Alphabetically sorted dictionary is:\n",
            "Grapefruit 2\n",
            "Guava 1\n",
            "Lemon 3\n",
            "Mango 5\n",
            "Pineapple 4\n"
          ]
        }
      ]
    },
    {
      "cell_type": "markdown",
      "source": [
        "**# 6. Write a lambda function to compute log values of only positive numbers, else return “Invalid”.**"
      ],
      "metadata": {
        "id": "QqSskUn53mXE"
      }
    },
    {
      "cell_type": "code",
      "source": [
        "import math\n",
        "r = lambda x: math.log(x) if x >= 0 else print(\"Invalid\")\n",
        "r(6)"
      ],
      "metadata": {
        "id": "AKVl1LWLA_gh",
        "colab": {
          "base_uri": "https://localhost:8080/"
        },
        "outputId": "313b7eae-2585-4f08-99f9-deec6f24fd7b"
      },
      "execution_count": 9,
      "outputs": [
        {
          "output_type": "execute_result",
          "data": {
            "text/plain": [
              "1.791759469228055"
            ]
          },
          "metadata": {},
          "execution_count": 9
        }
      ]
    },
    {
      "cell_type": "markdown",
      "source": [
        "**# 7. Write a function to add elements of two input matrices.**"
      ],
      "metadata": {
        "id": "uKvYXyxJ3pXP"
      }
    },
    {
      "cell_type": "code",
      "source": [
        "X = [[54,93,79],[55,69,71],[10,24,19]]\n",
        "Y = [[67,23,56],[41,79,46],[35,29,71]]\n",
        "\n",
        "print(X)\n",
        "print(\"\\n\")\n",
        "print(Y)\n",
        "print(\"\\n\")\n",
        "\n",
        "result = [[X[i][j] + Y[i][j]\n",
        "           for j in range(len(X[0]))]\n",
        "          for i in range(len(X))]\n",
        "\n",
        "print(\"Result Matrix is:\")\n",
        "for r in result:\n",
        "  print(r)"
      ],
      "metadata": {
        "id": "v8UuE5_lC7iw",
        "colab": {
          "base_uri": "https://localhost:8080/"
        },
        "outputId": "eed869c6-b6a7-4378-dc20-7e6c3f2703a8"
      },
      "execution_count": 10,
      "outputs": [
        {
          "output_type": "stream",
          "name": "stdout",
          "text": [
            "[[54, 93, 79], [55, 69, 71], [10, 24, 19]]\n",
            "\n",
            "\n",
            "[[67, 23, 56], [41, 79, 46], [35, 29, 71]]\n",
            "\n",
            "\n",
            "Result Matrix is:\n",
            "[121, 116, 135]\n",
            "[96, 148, 117]\n",
            "[45, 53, 90]\n"
          ]
        }
      ]
    },
    {
      "cell_type": "markdown",
      "source": [
        "**# 8. Create your own Pandas dataframe df with three columns and a dozen rows. Do the following operations:**"
      ],
      "metadata": {
        "id": "kOow_hc43tYQ"
      }
    },
    {
      "cell_type": "code",
      "source": [
        "import pandas as pd\n",
        "import numpy as np\n",
        "\n",
        "entry = {'NUID': ['N00277549', 'N00278564', 'N00277639', 'N00279532', 'N00276341', 'N00278327', 'N00277431', 'N00275732', 'N00276520', 'N00275498', 'N00276209', 'N00279310'],\n",
        "         'Name': ['Jay D.', 'Ansh M.', 'Jay C.', 'Harsh S.', 'Aakash B.', 'Hrishikesh S.', 'Aryak B.', 'Meet D.', 'Shubham G.', 'Yash N.', 'Inshaal K.', 'Kalind J.'],\n",
        "         'Course': ['Software Engineering', 'Information Management', 'Data Science', 'Information System', 'Computer Science', 'Computer Science', 'Information System', 'Data Science', 'Information System', 'Software Engineering', 'Information System', 'Data Science'],\n",
        "         'Age': [23, 24, 23, 25, 28, 29, 25, 31, 24, 23, 23, 24]}\n",
        "\n",
        "df = pd.DataFrame(entry)\n",
        "print(\"Pandas Dataframe created is:\\n\",df)"
      ],
      "metadata": {
        "id": "R71Gy3kHBCHt",
        "colab": {
          "base_uri": "https://localhost:8080/"
        },
        "outputId": "19641305-cc9e-45ad-a2ea-ff9556be1c9f"
      },
      "execution_count": 11,
      "outputs": [
        {
          "output_type": "stream",
          "name": "stdout",
          "text": [
            "Pandas Dataframe created is:\n",
            "          NUID           Name                  Course  Age\n",
            "0   N00277549         Jay D.    Software Engineering   23\n",
            "1   N00278564        Ansh M.  Information Management   24\n",
            "2   N00277639         Jay C.            Data Science   23\n",
            "3   N00279532       Harsh S.      Information System   25\n",
            "4   N00276341      Aakash B.        Computer Science   28\n",
            "5   N00278327  Hrishikesh S.        Computer Science   29\n",
            "6   N00277431       Aryak B.      Information System   25\n",
            "7   N00275732        Meet D.            Data Science   31\n",
            "8   N00276520     Shubham G.      Information System   24\n",
            "9   N00275498        Yash N.    Software Engineering   23\n",
            "10  N00276209     Inshaal K.      Information System   23\n",
            "11  N00279310      Kalind J.            Data Science   24\n"
          ]
        }
      ]
    },
    {
      "cell_type": "code",
      "source": [
        "# a. Insert a new column to df.\n",
        "df['Address'] = ['Mumbai', 'Delhi', 'Chennai', 'Bangalore', 'Delhi', 'Mumbai', 'Mumbai', 'Delhi', 'Bangalore', 'Chennai', 'Mumbai', 'Indore']\n",
        "print(\"New Column added in Dataframe is:\\n\",df)"
      ],
      "metadata": {
        "colab": {
          "base_uri": "https://localhost:8080/"
        },
        "id": "uN_jMRfw3yjD",
        "outputId": "e61f36ee-e57f-4570-b420-07f5cdbbc172"
      },
      "execution_count": 12,
      "outputs": [
        {
          "output_type": "stream",
          "name": "stdout",
          "text": [
            "New Column added in Dataframe is:\n",
            "          NUID           Name                  Course  Age    Address\n",
            "0   N00277549         Jay D.    Software Engineering   23     Mumbai\n",
            "1   N00278564        Ansh M.  Information Management   24      Delhi\n",
            "2   N00277639         Jay C.            Data Science   23    Chennai\n",
            "3   N00279532       Harsh S.      Information System   25  Bangalore\n",
            "4   N00276341      Aakash B.        Computer Science   28      Delhi\n",
            "5   N00278327  Hrishikesh S.        Computer Science   29     Mumbai\n",
            "6   N00277431       Aryak B.      Information System   25     Mumbai\n",
            "7   N00275732        Meet D.            Data Science   31      Delhi\n",
            "8   N00276520     Shubham G.      Information System   24  Bangalore\n",
            "9   N00275498        Yash N.    Software Engineering   23    Chennai\n",
            "10  N00276209     Inshaal K.      Information System   23     Mumbai\n",
            "11  N00279310      Kalind J.            Data Science   24     Indore\n"
          ]
        }
      ]
    },
    {
      "cell_type": "code",
      "source": [
        "# b. Add a new tuple to df.\n",
        "tuple1 = {'NUID':\"N00277345\", 'Name':\"Chintan M.\", 'Course':\"BioInformatics\", 'Age':28, 'Address':\"Mumbai\"}\n",
        "\n",
        "df = df.append(tuple1,ignore_index=True)\n",
        "df"
      ],
      "metadata": {
        "colab": {
          "base_uri": "https://localhost:8080/",
          "height": 452
        },
        "id": "XGXonru1337j",
        "outputId": "25a1b78c-afd0-49d8-cea8-8470e55b3921"
      },
      "execution_count": 13,
      "outputs": [
        {
          "output_type": "execute_result",
          "data": {
            "text/plain": [
              "         NUID           Name                  Course  Age    Address\n",
              "0   N00277549         Jay D.    Software Engineering   23     Mumbai\n",
              "1   N00278564        Ansh M.  Information Management   24      Delhi\n",
              "2   N00277639         Jay C.            Data Science   23    Chennai\n",
              "3   N00279532       Harsh S.      Information System   25  Bangalore\n",
              "4   N00276341      Aakash B.        Computer Science   28      Delhi\n",
              "5   N00278327  Hrishikesh S.        Computer Science   29     Mumbai\n",
              "6   N00277431       Aryak B.      Information System   25     Mumbai\n",
              "7   N00275732        Meet D.            Data Science   31      Delhi\n",
              "8   N00276520     Shubham G.      Information System   24  Bangalore\n",
              "9   N00275498        Yash N.    Software Engineering   23    Chennai\n",
              "10  N00276209     Inshaal K.      Information System   23     Mumbai\n",
              "11  N00279310      Kalind J.            Data Science   24     Indore\n",
              "12  N00277345     Chintan M.          BioInformatics   28     Mumbai"
            ],
            "text/html": [
              "\n",
              "  <div id=\"df-10fb2cfe-7665-4474-8c91-07a59eab62d6\">\n",
              "    <div class=\"colab-df-container\">\n",
              "      <div>\n",
              "<style scoped>\n",
              "    .dataframe tbody tr th:only-of-type {\n",
              "        vertical-align: middle;\n",
              "    }\n",
              "\n",
              "    .dataframe tbody tr th {\n",
              "        vertical-align: top;\n",
              "    }\n",
              "\n",
              "    .dataframe thead th {\n",
              "        text-align: right;\n",
              "    }\n",
              "</style>\n",
              "<table border=\"1\" class=\"dataframe\">\n",
              "  <thead>\n",
              "    <tr style=\"text-align: right;\">\n",
              "      <th></th>\n",
              "      <th>NUID</th>\n",
              "      <th>Name</th>\n",
              "      <th>Course</th>\n",
              "      <th>Age</th>\n",
              "      <th>Address</th>\n",
              "    </tr>\n",
              "  </thead>\n",
              "  <tbody>\n",
              "    <tr>\n",
              "      <th>0</th>\n",
              "      <td>N00277549</td>\n",
              "      <td>Jay D.</td>\n",
              "      <td>Software Engineering</td>\n",
              "      <td>23</td>\n",
              "      <td>Mumbai</td>\n",
              "    </tr>\n",
              "    <tr>\n",
              "      <th>1</th>\n",
              "      <td>N00278564</td>\n",
              "      <td>Ansh M.</td>\n",
              "      <td>Information Management</td>\n",
              "      <td>24</td>\n",
              "      <td>Delhi</td>\n",
              "    </tr>\n",
              "    <tr>\n",
              "      <th>2</th>\n",
              "      <td>N00277639</td>\n",
              "      <td>Jay C.</td>\n",
              "      <td>Data Science</td>\n",
              "      <td>23</td>\n",
              "      <td>Chennai</td>\n",
              "    </tr>\n",
              "    <tr>\n",
              "      <th>3</th>\n",
              "      <td>N00279532</td>\n",
              "      <td>Harsh S.</td>\n",
              "      <td>Information System</td>\n",
              "      <td>25</td>\n",
              "      <td>Bangalore</td>\n",
              "    </tr>\n",
              "    <tr>\n",
              "      <th>4</th>\n",
              "      <td>N00276341</td>\n",
              "      <td>Aakash B.</td>\n",
              "      <td>Computer Science</td>\n",
              "      <td>28</td>\n",
              "      <td>Delhi</td>\n",
              "    </tr>\n",
              "    <tr>\n",
              "      <th>5</th>\n",
              "      <td>N00278327</td>\n",
              "      <td>Hrishikesh S.</td>\n",
              "      <td>Computer Science</td>\n",
              "      <td>29</td>\n",
              "      <td>Mumbai</td>\n",
              "    </tr>\n",
              "    <tr>\n",
              "      <th>6</th>\n",
              "      <td>N00277431</td>\n",
              "      <td>Aryak B.</td>\n",
              "      <td>Information System</td>\n",
              "      <td>25</td>\n",
              "      <td>Mumbai</td>\n",
              "    </tr>\n",
              "    <tr>\n",
              "      <th>7</th>\n",
              "      <td>N00275732</td>\n",
              "      <td>Meet D.</td>\n",
              "      <td>Data Science</td>\n",
              "      <td>31</td>\n",
              "      <td>Delhi</td>\n",
              "    </tr>\n",
              "    <tr>\n",
              "      <th>8</th>\n",
              "      <td>N00276520</td>\n",
              "      <td>Shubham G.</td>\n",
              "      <td>Information System</td>\n",
              "      <td>24</td>\n",
              "      <td>Bangalore</td>\n",
              "    </tr>\n",
              "    <tr>\n",
              "      <th>9</th>\n",
              "      <td>N00275498</td>\n",
              "      <td>Yash N.</td>\n",
              "      <td>Software Engineering</td>\n",
              "      <td>23</td>\n",
              "      <td>Chennai</td>\n",
              "    </tr>\n",
              "    <tr>\n",
              "      <th>10</th>\n",
              "      <td>N00276209</td>\n",
              "      <td>Inshaal K.</td>\n",
              "      <td>Information System</td>\n",
              "      <td>23</td>\n",
              "      <td>Mumbai</td>\n",
              "    </tr>\n",
              "    <tr>\n",
              "      <th>11</th>\n",
              "      <td>N00279310</td>\n",
              "      <td>Kalind J.</td>\n",
              "      <td>Data Science</td>\n",
              "      <td>24</td>\n",
              "      <td>Indore</td>\n",
              "    </tr>\n",
              "    <tr>\n",
              "      <th>12</th>\n",
              "      <td>N00277345</td>\n",
              "      <td>Chintan M.</td>\n",
              "      <td>BioInformatics</td>\n",
              "      <td>28</td>\n",
              "      <td>Mumbai</td>\n",
              "    </tr>\n",
              "  </tbody>\n",
              "</table>\n",
              "</div>\n",
              "      <button class=\"colab-df-convert\" onclick=\"convertToInteractive('df-10fb2cfe-7665-4474-8c91-07a59eab62d6')\"\n",
              "              title=\"Convert this dataframe to an interactive table.\"\n",
              "              style=\"display:none;\">\n",
              "        \n",
              "  <svg xmlns=\"http://www.w3.org/2000/svg\" height=\"24px\"viewBox=\"0 0 24 24\"\n",
              "       width=\"24px\">\n",
              "    <path d=\"M0 0h24v24H0V0z\" fill=\"none\"/>\n",
              "    <path d=\"M18.56 5.44l.94 2.06.94-2.06 2.06-.94-2.06-.94-.94-2.06-.94 2.06-2.06.94zm-11 1L8.5 8.5l.94-2.06 2.06-.94-2.06-.94L8.5 2.5l-.94 2.06-2.06.94zm10 10l.94 2.06.94-2.06 2.06-.94-2.06-.94-.94-2.06-.94 2.06-2.06.94z\"/><path d=\"M17.41 7.96l-1.37-1.37c-.4-.4-.92-.59-1.43-.59-.52 0-1.04.2-1.43.59L10.3 9.45l-7.72 7.72c-.78.78-.78 2.05 0 2.83L4 21.41c.39.39.9.59 1.41.59.51 0 1.02-.2 1.41-.59l7.78-7.78 2.81-2.81c.8-.78.8-2.07 0-2.86zM5.41 20L4 18.59l7.72-7.72 1.47 1.35L5.41 20z\"/>\n",
              "  </svg>\n",
              "      </button>\n",
              "      \n",
              "  <style>\n",
              "    .colab-df-container {\n",
              "      display:flex;\n",
              "      flex-wrap:wrap;\n",
              "      gap: 12px;\n",
              "    }\n",
              "\n",
              "    .colab-df-convert {\n",
              "      background-color: #E8F0FE;\n",
              "      border: none;\n",
              "      border-radius: 50%;\n",
              "      cursor: pointer;\n",
              "      display: none;\n",
              "      fill: #1967D2;\n",
              "      height: 32px;\n",
              "      padding: 0 0 0 0;\n",
              "      width: 32px;\n",
              "    }\n",
              "\n",
              "    .colab-df-convert:hover {\n",
              "      background-color: #E2EBFA;\n",
              "      box-shadow: 0px 1px 2px rgba(60, 64, 67, 0.3), 0px 1px 3px 1px rgba(60, 64, 67, 0.15);\n",
              "      fill: #174EA6;\n",
              "    }\n",
              "\n",
              "    [theme=dark] .colab-df-convert {\n",
              "      background-color: #3B4455;\n",
              "      fill: #D2E3FC;\n",
              "    }\n",
              "\n",
              "    [theme=dark] .colab-df-convert:hover {\n",
              "      background-color: #434B5C;\n",
              "      box-shadow: 0px 1px 3px 1px rgba(0, 0, 0, 0.15);\n",
              "      filter: drop-shadow(0px 1px 2px rgba(0, 0, 0, 0.3));\n",
              "      fill: #FFFFFF;\n",
              "    }\n",
              "  </style>\n",
              "\n",
              "      <script>\n",
              "        const buttonEl =\n",
              "          document.querySelector('#df-10fb2cfe-7665-4474-8c91-07a59eab62d6 button.colab-df-convert');\n",
              "        buttonEl.style.display =\n",
              "          google.colab.kernel.accessAllowed ? 'block' : 'none';\n",
              "\n",
              "        async function convertToInteractive(key) {\n",
              "          const element = document.querySelector('#df-10fb2cfe-7665-4474-8c91-07a59eab62d6');\n",
              "          const dataTable =\n",
              "            await google.colab.kernel.invokeFunction('convertToInteractive',\n",
              "                                                     [key], {});\n",
              "          if (!dataTable) return;\n",
              "\n",
              "          const docLinkHtml = 'Like what you see? Visit the ' +\n",
              "            '<a target=\"_blank\" href=https://colab.research.google.com/notebooks/data_table.ipynb>data table notebook</a>'\n",
              "            + ' to learn more about interactive tables.';\n",
              "          element.innerHTML = '';\n",
              "          dataTable['output_type'] = 'display_data';\n",
              "          await google.colab.output.renderOutput(dataTable, element);\n",
              "          const docLink = document.createElement('div');\n",
              "          docLink.innerHTML = docLinkHtml;\n",
              "          element.appendChild(docLink);\n",
              "        }\n",
              "      </script>\n",
              "    </div>\n",
              "  </div>\n",
              "  "
            ]
          },
          "metadata": {},
          "execution_count": 13
        }
      ]
    },
    {
      "cell_type": "code",
      "source": [
        "# c. Iterate over the rows of df and display.\n",
        "for row in df.itertuples():\n",
        "\tprint(row)"
      ],
      "metadata": {
        "colab": {
          "base_uri": "https://localhost:8080/"
        },
        "id": "2-zSZaIP37by",
        "outputId": "8e16a38f-c5c6-44a5-ab53-286139662085"
      },
      "execution_count": 14,
      "outputs": [
        {
          "output_type": "stream",
          "name": "stdout",
          "text": [
            "Pandas(Index=0, NUID='N00277549', Name='Jay D.', Course='Software Engineering', Age=23, Address='Mumbai')\n",
            "Pandas(Index=1, NUID='N00278564', Name='Ansh M.', Course='Information Management', Age=24, Address='Delhi')\n",
            "Pandas(Index=2, NUID='N00277639', Name='Jay C.', Course='Data Science', Age=23, Address='Chennai')\n",
            "Pandas(Index=3, NUID='N00279532', Name='Harsh S.', Course='Information System', Age=25, Address='Bangalore')\n",
            "Pandas(Index=4, NUID='N00276341', Name='Aakash B.', Course='Computer Science', Age=28, Address='Delhi')\n",
            "Pandas(Index=5, NUID='N00278327', Name='Hrishikesh S.', Course='Computer Science', Age=29, Address='Mumbai')\n",
            "Pandas(Index=6, NUID='N00277431', Name='Aryak B.', Course='Information System', Age=25, Address='Mumbai')\n",
            "Pandas(Index=7, NUID='N00275732', Name='Meet D.', Course='Data Science', Age=31, Address='Delhi')\n",
            "Pandas(Index=8, NUID='N00276520', Name='Shubham G.', Course='Information System', Age=24, Address='Bangalore')\n",
            "Pandas(Index=9, NUID='N00275498', Name='Yash N.', Course='Software Engineering', Age=23, Address='Chennai')\n",
            "Pandas(Index=10, NUID='N00276209', Name='Inshaal K.', Course='Information System', Age=23, Address='Mumbai')\n",
            "Pandas(Index=11, NUID='N00279310', Name='Kalind J.', Course='Data Science', Age=24, Address='Indore')\n",
            "Pandas(Index=12, NUID='N00277345', Name='Chintan M.', Course='BioInformatics', Age=28, Address='Mumbai')\n"
          ]
        }
      ]
    },
    {
      "cell_type": "code",
      "source": [
        "# d. Display the column names of df.\n",
        "for col in df.columns:\n",
        "    print(col)"
      ],
      "metadata": {
        "colab": {
          "base_uri": "https://localhost:8080/"
        },
        "id": "ezb09J2U3_Cf",
        "outputId": "354e4a28-2427-4abf-fd5f-4673ae7dec82"
      },
      "execution_count": 15,
      "outputs": [
        {
          "output_type": "stream",
          "name": "stdout",
          "text": [
            "NUID\n",
            "Name\n",
            "Course\n",
            "Age\n",
            "Address\n"
          ]
        }
      ]
    },
    {
      "cell_type": "code",
      "source": [
        "# e. Drop a list of rows based on some criterion applied to the first column (e.g., if the first column is an integer column then all rows with values of the first column greater than 25).\n",
        "df.drop(df[df['Address'] == 'Bangalore'].index, inplace = True)\n",
        "print(\"New Dataframe is:\\n\",df)"
      ],
      "metadata": {
        "colab": {
          "base_uri": "https://localhost:8080/"
        },
        "id": "-Bkky2DV4Cry",
        "outputId": "2b436c18-fb9f-4049-8240-ddfbc560b47b"
      },
      "execution_count": 16,
      "outputs": [
        {
          "output_type": "stream",
          "name": "stdout",
          "text": [
            "New Dataframe is:\n",
            "          NUID           Name                  Course  Age  Address\n",
            "0   N00277549         Jay D.    Software Engineering   23   Mumbai\n",
            "1   N00278564        Ansh M.  Information Management   24    Delhi\n",
            "2   N00277639         Jay C.            Data Science   23  Chennai\n",
            "4   N00276341      Aakash B.        Computer Science   28    Delhi\n",
            "5   N00278327  Hrishikesh S.        Computer Science   29   Mumbai\n",
            "6   N00277431       Aryak B.      Information System   25   Mumbai\n",
            "7   N00275732        Meet D.            Data Science   31    Delhi\n",
            "9   N00275498        Yash N.    Software Engineering   23  Chennai\n",
            "10  N00276209     Inshaal K.      Information System   23   Mumbai\n",
            "11  N00279310      Kalind J.            Data Science   24   Indore\n",
            "12  N00277345     Chintan M.          BioInformatics   28   Mumbai\n"
          ]
        }
      ]
    },
    {
      "cell_type": "code",
      "source": [
        "# f. Export df into an excel file and then import from the same.\n",
        "file_name = 'StudentData.xlsx'\n",
        "df.to_excel(file_name)\n",
        "print(\"Dataframe is exported to the excel file !\\n\")\n",
        "\n",
        "df4 = pd.read_excel('StudentData.xlsx',index_col=None)\n",
        "print(\"New Dataframe Imported from excel file is:\\n\",df4)"
      ],
      "metadata": {
        "colab": {
          "base_uri": "https://localhost:8080/"
        },
        "id": "MDsLmPQ14FL4",
        "outputId": "cd1e9799-e5ef-4c6e-dc92-3921b6262c6d"
      },
      "execution_count": 17,
      "outputs": [
        {
          "output_type": "stream",
          "name": "stdout",
          "text": [
            "Dataframe is exported to the excel file !\n",
            "\n",
            "New Dataframe Imported from excel file is:\n",
            "     Unnamed: 0       NUID           Name                  Course  Age  Address\n",
            "0            0  N00277549         Jay D.    Software Engineering   23   Mumbai\n",
            "1            1  N00278564        Ansh M.  Information Management   24    Delhi\n",
            "2            2  N00277639         Jay C.            Data Science   23  Chennai\n",
            "3            4  N00276341      Aakash B.        Computer Science   28    Delhi\n",
            "4            5  N00278327  Hrishikesh S.        Computer Science   29   Mumbai\n",
            "5            6  N00277431       Aryak B.      Information System   25   Mumbai\n",
            "6            7  N00275732        Meet D.            Data Science   31    Delhi\n",
            "7            9  N00275498        Yash N.    Software Engineering   23  Chennai\n",
            "8           10  N00276209     Inshaal K.      Information System   23   Mumbai\n",
            "9           11  N00279310      Kalind J.            Data Science   24   Indore\n",
            "10          12  N00277345     Chintan M.          BioInformatics   28   Mumbai\n"
          ]
        }
      ]
    },
    {
      "cell_type": "code",
      "source": [
        "# g. Replace all the NaN values with zeros in a column of df.\n",
        "import numpy as np\n",
        "\n",
        "entry1 = {'NUID': ['N00277549', 'N00278564', 'N00277639', 'N00279532', 'N00276341', 'N00278327', 'N00277431', 'N00275732', 'N00276520', 'N00275498', 'N00276209', 'N00279310'],\n",
        "         'Name': ['Jay D.', 'Ansh M.', 'Jay C.', 'Harsh S.', 'Aakash B.', 'Hrishikesh S.', 'Aryak B.', 'Meet D.', 'Shubham G.', 'Yash N.', 'Inshaal K.', 'Kalind J.'],\n",
        "         'Course': ['Software Engineering', 'Information Management', 'Data Science', 'Information System', 'Computer Science', 'Computer Science', 'Information System', 'Data Science', 'Information System', 'Software Engineering', 'Information System', 'Data Science'],\n",
        "         'Age': [23, 24, 23, np.NaN, 28, 29, 25, np.NaN, 24, 23, np.NaN, 24]}\n",
        "\n",
        "null = pd.DataFrame(entry1)\n",
        "\n",
        "null['Age'] = null['Age'].fillna(0)\n",
        "print(null)"
      ],
      "metadata": {
        "colab": {
          "base_uri": "https://localhost:8080/"
        },
        "id": "9BxcirMf4Hrs",
        "outputId": "b72a7bd0-52f7-4aa6-fdcf-412d14c8c6e3"
      },
      "execution_count": 18,
      "outputs": [
        {
          "output_type": "stream",
          "name": "stdout",
          "text": [
            "         NUID           Name                  Course   Age\n",
            "0   N00277549         Jay D.    Software Engineering  23.0\n",
            "1   N00278564        Ansh M.  Information Management  24.0\n",
            "2   N00277639         Jay C.            Data Science  23.0\n",
            "3   N00279532       Harsh S.      Information System   0.0\n",
            "4   N00276341      Aakash B.        Computer Science  28.0\n",
            "5   N00278327  Hrishikesh S.        Computer Science  29.0\n",
            "6   N00277431       Aryak B.      Information System  25.0\n",
            "7   N00275732        Meet D.            Data Science   0.0\n",
            "8   N00276520     Shubham G.      Information System  24.0\n",
            "9   N00275498        Yash N.    Software Engineering  23.0\n",
            "10  N00276209     Inshaal K.      Information System   0.0\n",
            "11  N00279310      Kalind J.            Data Science  24.0\n"
          ]
        }
      ]
    },
    {
      "cell_type": "code",
      "source": [
        "# h. Set a given value for a particular cell in df.\n",
        "df.at[7, 'Address'] = 'Mumbai'\n",
        "print(df)"
      ],
      "metadata": {
        "colab": {
          "base_uri": "https://localhost:8080/"
        },
        "id": "4tFBFqDu4NhR",
        "outputId": "232849da-93f9-475b-e3e7-20468d8f5c44"
      },
      "execution_count": 19,
      "outputs": [
        {
          "output_type": "stream",
          "name": "stdout",
          "text": [
            "         NUID           Name                  Course  Age  Address\n",
            "0   N00277549         Jay D.    Software Engineering   23   Mumbai\n",
            "1   N00278564        Ansh M.  Information Management   24    Delhi\n",
            "2   N00277639         Jay C.            Data Science   23  Chennai\n",
            "4   N00276341      Aakash B.        Computer Science   28    Delhi\n",
            "5   N00278327  Hrishikesh S.        Computer Science   29   Mumbai\n",
            "6   N00277431       Aryak B.      Information System   25   Mumbai\n",
            "7   N00275732        Meet D.            Data Science   31   Mumbai\n",
            "9   N00275498        Yash N.    Software Engineering   23  Chennai\n",
            "10  N00276209     Inshaal K.      Information System   23   Mumbai\n",
            "11  N00279310      Kalind J.            Data Science   24   Indore\n",
            "12  N00277345     Chintan M.          BioInformatics   28   Mumbai\n"
          ]
        }
      ]
    },
    {
      "cell_type": "code",
      "source": [
        "# i. Divide df into in a given ratio.\n",
        "part_40 = df.sample(frac = 0.4)\n",
        "rest_part_60 = df.drop(part_40.index)\n",
        "\n",
        "print(\"\\n40% of the given DataFrame:\")\n",
        "print(part_40)\n",
        "\n",
        "print(\"\\nrest 60% of the given DataFrame:\")\n",
        "print(rest_part_60)"
      ],
      "metadata": {
        "colab": {
          "base_uri": "https://localhost:8080/"
        },
        "id": "Onorrj1F4Oso",
        "outputId": "5ee85225-f2a1-495c-ef57-c3ae0bfa0dc7"
      },
      "execution_count": 20,
      "outputs": [
        {
          "output_type": "stream",
          "name": "stdout",
          "text": [
            "\n",
            "40% of the given DataFrame:\n",
            "         NUID        Name                Course  Age Address\n",
            "10  N00276209  Inshaal K.    Information System   23  Mumbai\n",
            "0   N00277549      Jay D.  Software Engineering   23  Mumbai\n",
            "4   N00276341   Aakash B.      Computer Science   28   Delhi\n",
            "6   N00277431    Aryak B.    Information System   25  Mumbai\n",
            "\n",
            "rest 60% of the given DataFrame:\n",
            "         NUID           Name                  Course  Age  Address\n",
            "1   N00278564        Ansh M.  Information Management   24    Delhi\n",
            "2   N00277639         Jay C.            Data Science   23  Chennai\n",
            "5   N00278327  Hrishikesh S.        Computer Science   29   Mumbai\n",
            "7   N00275732        Meet D.            Data Science   31   Mumbai\n",
            "9   N00275498        Yash N.    Software Engineering   23  Chennai\n",
            "11  N00279310      Kalind J.            Data Science   24   Indore\n",
            "12  N00277345     Chintan M.          BioInformatics   28   Mumbai\n"
          ]
        }
      ]
    },
    {
      "cell_type": "code",
      "source": [
        "# j. Rename a specific column name.\n",
        "print(df.columns)\n",
        "print(\"\\n\")\n",
        "\n",
        "df7 = df\n",
        "df7.rename(columns = {\"Address\": \"City\"}, inplace = True)\n",
        "print(df7)"
      ],
      "metadata": {
        "colab": {
          "base_uri": "https://localhost:8080/"
        },
        "id": "mcGK4BsY4P6G",
        "outputId": "edcd747f-7271-4b3b-9805-46939871936e"
      },
      "execution_count": 21,
      "outputs": [
        {
          "output_type": "stream",
          "name": "stdout",
          "text": [
            "Index(['NUID', 'Name', 'Course', 'Age', 'Address'], dtype='object')\n",
            "\n",
            "\n",
            "         NUID           Name                  Course  Age     City\n",
            "0   N00277549         Jay D.    Software Engineering   23   Mumbai\n",
            "1   N00278564        Ansh M.  Information Management   24    Delhi\n",
            "2   N00277639         Jay C.            Data Science   23  Chennai\n",
            "4   N00276341      Aakash B.        Computer Science   28    Delhi\n",
            "5   N00278327  Hrishikesh S.        Computer Science   29   Mumbai\n",
            "6   N00277431       Aryak B.      Information System   25   Mumbai\n",
            "7   N00275732        Meet D.            Data Science   31   Mumbai\n",
            "9   N00275498        Yash N.    Software Engineering   23  Chennai\n",
            "10  N00276209     Inshaal K.      Information System   23   Mumbai\n",
            "11  N00279310      Kalind J.            Data Science   24   Indore\n",
            "12  N00277345     Chintan M.          BioInformatics   28   Mumbai\n"
          ]
        }
      ]
    },
    {
      "cell_type": "code",
      "source": [
        "# k. Display the last three rows of df.\n",
        "df.tail(3)"
      ],
      "metadata": {
        "colab": {
          "base_uri": "https://localhost:8080/",
          "height": 142
        },
        "id": "XVptxeet4RAN",
        "outputId": "455a077f-50af-4936-ec6f-956623627d1e"
      },
      "execution_count": 22,
      "outputs": [
        {
          "output_type": "execute_result",
          "data": {
            "text/plain": [
              "         NUID        Name              Course  Age    City\n",
              "10  N00276209  Inshaal K.  Information System   23  Mumbai\n",
              "11  N00279310   Kalind J.        Data Science   24  Indore\n",
              "12  N00277345  Chintan M.      BioInformatics   28  Mumbai"
            ],
            "text/html": [
              "\n",
              "  <div id=\"df-70c5320e-44d1-4c24-ad77-c8f6456ba10f\">\n",
              "    <div class=\"colab-df-container\">\n",
              "      <div>\n",
              "<style scoped>\n",
              "    .dataframe tbody tr th:only-of-type {\n",
              "        vertical-align: middle;\n",
              "    }\n",
              "\n",
              "    .dataframe tbody tr th {\n",
              "        vertical-align: top;\n",
              "    }\n",
              "\n",
              "    .dataframe thead th {\n",
              "        text-align: right;\n",
              "    }\n",
              "</style>\n",
              "<table border=\"1\" class=\"dataframe\">\n",
              "  <thead>\n",
              "    <tr style=\"text-align: right;\">\n",
              "      <th></th>\n",
              "      <th>NUID</th>\n",
              "      <th>Name</th>\n",
              "      <th>Course</th>\n",
              "      <th>Age</th>\n",
              "      <th>City</th>\n",
              "    </tr>\n",
              "  </thead>\n",
              "  <tbody>\n",
              "    <tr>\n",
              "      <th>10</th>\n",
              "      <td>N00276209</td>\n",
              "      <td>Inshaal K.</td>\n",
              "      <td>Information System</td>\n",
              "      <td>23</td>\n",
              "      <td>Mumbai</td>\n",
              "    </tr>\n",
              "    <tr>\n",
              "      <th>11</th>\n",
              "      <td>N00279310</td>\n",
              "      <td>Kalind J.</td>\n",
              "      <td>Data Science</td>\n",
              "      <td>24</td>\n",
              "      <td>Indore</td>\n",
              "    </tr>\n",
              "    <tr>\n",
              "      <th>12</th>\n",
              "      <td>N00277345</td>\n",
              "      <td>Chintan M.</td>\n",
              "      <td>BioInformatics</td>\n",
              "      <td>28</td>\n",
              "      <td>Mumbai</td>\n",
              "    </tr>\n",
              "  </tbody>\n",
              "</table>\n",
              "</div>\n",
              "      <button class=\"colab-df-convert\" onclick=\"convertToInteractive('df-70c5320e-44d1-4c24-ad77-c8f6456ba10f')\"\n",
              "              title=\"Convert this dataframe to an interactive table.\"\n",
              "              style=\"display:none;\">\n",
              "        \n",
              "  <svg xmlns=\"http://www.w3.org/2000/svg\" height=\"24px\"viewBox=\"0 0 24 24\"\n",
              "       width=\"24px\">\n",
              "    <path d=\"M0 0h24v24H0V0z\" fill=\"none\"/>\n",
              "    <path d=\"M18.56 5.44l.94 2.06.94-2.06 2.06-.94-2.06-.94-.94-2.06-.94 2.06-2.06.94zm-11 1L8.5 8.5l.94-2.06 2.06-.94-2.06-.94L8.5 2.5l-.94 2.06-2.06.94zm10 10l.94 2.06.94-2.06 2.06-.94-2.06-.94-.94-2.06-.94 2.06-2.06.94z\"/><path d=\"M17.41 7.96l-1.37-1.37c-.4-.4-.92-.59-1.43-.59-.52 0-1.04.2-1.43.59L10.3 9.45l-7.72 7.72c-.78.78-.78 2.05 0 2.83L4 21.41c.39.39.9.59 1.41.59.51 0 1.02-.2 1.41-.59l7.78-7.78 2.81-2.81c.8-.78.8-2.07 0-2.86zM5.41 20L4 18.59l7.72-7.72 1.47 1.35L5.41 20z\"/>\n",
              "  </svg>\n",
              "      </button>\n",
              "      \n",
              "  <style>\n",
              "    .colab-df-container {\n",
              "      display:flex;\n",
              "      flex-wrap:wrap;\n",
              "      gap: 12px;\n",
              "    }\n",
              "\n",
              "    .colab-df-convert {\n",
              "      background-color: #E8F0FE;\n",
              "      border: none;\n",
              "      border-radius: 50%;\n",
              "      cursor: pointer;\n",
              "      display: none;\n",
              "      fill: #1967D2;\n",
              "      height: 32px;\n",
              "      padding: 0 0 0 0;\n",
              "      width: 32px;\n",
              "    }\n",
              "\n",
              "    .colab-df-convert:hover {\n",
              "      background-color: #E2EBFA;\n",
              "      box-shadow: 0px 1px 2px rgba(60, 64, 67, 0.3), 0px 1px 3px 1px rgba(60, 64, 67, 0.15);\n",
              "      fill: #174EA6;\n",
              "    }\n",
              "\n",
              "    [theme=dark] .colab-df-convert {\n",
              "      background-color: #3B4455;\n",
              "      fill: #D2E3FC;\n",
              "    }\n",
              "\n",
              "    [theme=dark] .colab-df-convert:hover {\n",
              "      background-color: #434B5C;\n",
              "      box-shadow: 0px 1px 3px 1px rgba(0, 0, 0, 0.15);\n",
              "      filter: drop-shadow(0px 1px 2px rgba(0, 0, 0, 0.3));\n",
              "      fill: #FFFFFF;\n",
              "    }\n",
              "  </style>\n",
              "\n",
              "      <script>\n",
              "        const buttonEl =\n",
              "          document.querySelector('#df-70c5320e-44d1-4c24-ad77-c8f6456ba10f button.colab-df-convert');\n",
              "        buttonEl.style.display =\n",
              "          google.colab.kernel.accessAllowed ? 'block' : 'none';\n",
              "\n",
              "        async function convertToInteractive(key) {\n",
              "          const element = document.querySelector('#df-70c5320e-44d1-4c24-ad77-c8f6456ba10f');\n",
              "          const dataTable =\n",
              "            await google.colab.kernel.invokeFunction('convertToInteractive',\n",
              "                                                     [key], {});\n",
              "          if (!dataTable) return;\n",
              "\n",
              "          const docLinkHtml = 'Like what you see? Visit the ' +\n",
              "            '<a target=\"_blank\" href=https://colab.research.google.com/notebooks/data_table.ipynb>data table notebook</a>'\n",
              "            + ' to learn more about interactive tables.';\n",
              "          element.innerHTML = '';\n",
              "          dataTable['output_type'] = 'display_data';\n",
              "          await google.colab.output.renderOutput(dataTable, element);\n",
              "          const docLink = document.createElement('div');\n",
              "          docLink.innerHTML = docLinkHtml;\n",
              "          element.appendChild(docLink);\n",
              "        }\n",
              "      </script>\n",
              "    </div>\n",
              "  </div>\n",
              "  "
            ]
          },
          "metadata": {},
          "execution_count": 22
        }
      ]
    },
    {
      "cell_type": "markdown",
      "source": [
        "**# 9. With a given list of numbers, write a program to print this list after removing all duplicate values with the original order reserved.**"
      ],
      "metadata": {
        "id": "5y4Ygp6F4T3k"
      }
    },
    {
      "cell_type": "code",
      "source": [
        "def rem(dupl):\n",
        "    final_list = []\n",
        "    for num in dupl:\n",
        "        if num not in final_list:\n",
        "            final_list.append(num)\n",
        "    return final_list\n",
        "\n",
        "dupl = [50, 23, 67, 45, 4, 67, 54, 23, 67, 50]\n",
        "print(rem(dupl))"
      ],
      "metadata": {
        "id": "y2jf7noOBHJl",
        "colab": {
          "base_uri": "https://localhost:8080/"
        },
        "outputId": "6f644700-b3e3-48b6-9743-5f4038eb1d7c"
      },
      "execution_count": 23,
      "outputs": [
        {
          "output_type": "stream",
          "name": "stdout",
          "text": [
            "[50, 23, 67, 45, 4, 54]\n"
          ]
        }
      ]
    },
    {
      "cell_type": "markdown",
      "source": [
        "**# 10. Write a program which counts and prints the numbers of each character in a string input by console.**\n",
        "**# EXAMPLE:**\n",
        "**# INPUT: abcdefgabc**\n",
        "**# OUTPUT: a,2 c,2 b,2 e,1 d,1 g,1 f,1**"
      ],
      "metadata": {
        "id": "ULEA8rkm4ZwN"
      }
    },
    {
      "cell_type": "code",
      "source": [
        "def char_freq(str1):\n",
        "    dict = {}\n",
        "    for n in str1:\n",
        "        keys = dict.keys()\n",
        "        if n in keys:\n",
        "            dict[n] += 1\n",
        "        else:\n",
        "            dict[n] = 1\n",
        "    return dict\n",
        "print(\"\",char_freq(input()))"
      ],
      "metadata": {
        "id": "blmVFV4kBoVz",
        "colab": {
          "base_uri": "https://localhost:8080/"
        },
        "outputId": "c953aada-177c-4718-9c81-14c2deca24cd"
      },
      "execution_count": 163,
      "outputs": [
        {
          "output_type": "stream",
          "name": "stdout",
          "text": [
            "enchanted\n",
            " {'e': 2, 'n': 2, 'c': 1, 'h': 1, 'a': 1, 't': 1, 'd': 1}\n"
          ]
        }
      ]
    },
    {
      "cell_type": "markdown",
      "source": [
        "**# 11. Check if a given string is symmetrical and palindrome or not. A string is said to be symmetrical if both the halves of the string are the same and a string is said to be a palindrome string if one half of the string is the reverse of the other half or if a string appears same when read forward or backward. The string “malayalam” is palindrome, “byebye” is symmetrical.**"
      ],
      "metadata": {
        "id": "kqvGmH6m46VV"
      }
    },
    {
      "cell_type": "code",
      "source": [
        "str1 = str(input())\n",
        "half = int(len(str1) / 2)\n",
        "\n",
        "if len(str1) % 2 == 0:\n",
        "    frs_str = str1[:half]\n",
        "    scn_str = str1[half:]\n",
        "else:\n",
        "    frs_str = str1[:half]\n",
        "    scn_str = str1[half+1:]\n",
        "\n",
        "if frs_str == scn_str:\n",
        "    print('String is Symmertical')\n",
        "else:\n",
        "    print('String is not Symmertical')\n",
        "\n",
        "if frs_str == scn_str[::-1]:\n",
        "    print('String is Palindrome')\n",
        "else:\n",
        "    print('String is not Palindrome')"
      ],
      "metadata": {
        "id": "zAA13hbNBqVI",
        "colab": {
          "base_uri": "https://localhost:8080/"
        },
        "outputId": "a3041a80-ec8a-49a9-b90c-3d2410c45752"
      },
      "execution_count": 164,
      "outputs": [
        {
          "output_type": "stream",
          "name": "stdout",
          "text": [
            "malayalam\n",
            "String is not Symmertical\n",
            "String is Palindrome\n"
          ]
        }
      ]
    },
    {
      "cell_type": "markdown",
      "source": [
        "**# 12. Write a Python program to find the n-th term in a Fibonacci series using recursion.**"
      ],
      "metadata": {
        "id": "RDDGUCL25AJN"
      }
    },
    {
      "cell_type": "code",
      "source": [
        "def Fibonacci(n):\n",
        "    if n<= 0:\n",
        "        print(\"Incorrect input\")\n",
        "    elif n == 1:\n",
        "        return 0\n",
        "    elif n == 2:\n",
        "        return 1\n",
        "    else:\n",
        "        return Fibonacci(n-1)+Fibonacci(n-2)\n",
        "\n",
        "m = int(input())\n",
        "print(\"Fibonacci Series of number is:\",Fibonacci(m))"
      ],
      "metadata": {
        "id": "S_T6g_jFBsW9",
        "colab": {
          "base_uri": "https://localhost:8080/"
        },
        "outputId": "0ddd663a-72d2-4985-c41c-e2241b6bf6d3"
      },
      "execution_count": 165,
      "outputs": [
        {
          "output_type": "stream",
          "name": "stdout",
          "text": [
            "8\n",
            "Fibonacci Series of number is: 13\n"
          ]
        }
      ]
    },
    {
      "cell_type": "markdown",
      "source": [
        "**# 13. Write a Python program to find the longest substring between two given strings. You may not use any package except the substring function but you can make use of recursive function. Here is the way you will be graded:**"
      ],
      "metadata": {
        "id": "ZEfM9EpD5Pfi"
      }
    },
    {
      "cell_type": "code",
      "source": [
        "# import time\n",
        "# start_time = time.time()\n",
        "# main()\n",
        "# print(\"--- %s seconds ---\" % (time.time() - start_time))\n",
        "# EXAMPLE 1:\n",
        "# STRING 1: \"We are currently in lockdown\" STRING 2: \"There was a lock on the door\" OUTPUT: \" lock\"\n",
        "# EXAMPLE 2:\n",
        "# STRING 1: \"There is a lady on the mountain with an umbrella\" STRING 2: \"I love to look at the mountain when it is snowcapped\" OUTOUT: \" the mountain w\"\n",
        "\n",
        "import time\n",
        "start_time = time.time()\n",
        "\n",
        "def lngsubstr(str1, str2):\n",
        "    answer = \"\"\n",
        "    len1, len2 = len(str1), len(str2)\n",
        "    for i in range(len1):\n",
        "        match = \"\"\n",
        "        for j in range(len2):\n",
        "            if (i + j < len1 and str1[i + j] == str2[j]):\n",
        "                match += str2[j]\n",
        "            else:\n",
        "                if (len(match) > len(answer)): answer = match\n",
        "                match = \"\"\n",
        "    return answer\n",
        "\n",
        "m = input()\n",
        "n = input()\n",
        "print(\"Longest Substring between two strings are:\",lngsubstr(m, n))\n",
        "\n",
        "# There is a lady on the mountain with an umbrella\n",
        "# I love to look at the mountain when it is snowcapped\n",
        "\n",
        "print(\"--- %s seconds ---\" % (time.time() - start_time))"
      ],
      "metadata": {
        "id": "I_ekPObIBt0g",
        "colab": {
          "base_uri": "https://localhost:8080/"
        },
        "outputId": "e2825e6b-cfa9-4ba3-cd4f-685a46252cd1"
      },
      "execution_count": 166,
      "outputs": [
        {
          "output_type": "stream",
          "name": "stdout",
          "text": [
            "# There is a lady on the mountain with an umbrella\n",
            "# I love to look at the mountain when it is snowcapped\n",
            "Longest Substring between two strings are:  the mountain w\n",
            "--- 9.795719146728516 seconds ---\n"
          ]
        }
      ]
    },
    {
      "cell_type": "markdown",
      "source": [
        "**# 14. Write a Python program which accepts basic mathematical expressions from console and print the evaluation result.**"
      ],
      "metadata": {
        "id": "jedXLWmZ5fcu"
      }
    },
    {
      "cell_type": "code",
      "source": [
        "# EXAMPLE:\n",
        "# INPUT: 35 + 3 * 2\n",
        "# OUTPUT: 41\n",
        "\n",
        "exp = input()\n",
        "out = eval(exp)\n",
        "print('Mathematical Expression evaluated is:',out)"
      ],
      "metadata": {
        "id": "gB0ZvIPfBvuv",
        "colab": {
          "base_uri": "https://localhost:8080/"
        },
        "outputId": "25a4f194-3117-452b-ca55-b750f28cbf40"
      },
      "execution_count": 167,
      "outputs": [
        {
          "output_type": "stream",
          "name": "stdout",
          "text": [
            "35 + 3 * 2\n",
            "Mathematical Expression evaluated is: 41\n"
          ]
        }
      ]
    },
    {
      "cell_type": "markdown",
      "source": [
        "**# 15. Read the loan data file into a dataframe and then compute the following:**"
      ],
      "metadata": {
        "id": "Kqt5GB265iO4"
      }
    },
    {
      "cell_type": "code",
      "source": [
        "import pandas as pd\n",
        "import numpy as np\n",
        "import statistics\n",
        "\n",
        "loan = pd.read_excel('loan.xlsx',index_col=None)\n",
        "loan.head()"
      ],
      "metadata": {
        "colab": {
          "base_uri": "https://localhost:8080/",
          "height": 268
        },
        "id": "RKm_3GcXIrdS",
        "outputId": "0ca2eff3-cef0-435c-9f73-ac14637ccc8c"
      },
      "execution_count": 24,
      "outputs": [
        {
          "output_type": "execute_result",
          "data": {
            "text/plain": [
              "  Sex        Age  Time_at_address Res_status  Telephone Occupation Job_status  \\\n",
              "0   M  50.750000            0.585      owner      given  unemploye  unemploye   \n",
              "1   M  19.670000           10.000       rent  not_given   labourer  governmen   \n",
              "2   F  52.830002           15.000      owner      given  creative_  private_s   \n",
              "3   M  22.670000            2.540       rent  not_given  creative_  governmen   \n",
              "4   M  29.250000           13.000      owner      given     driver  governmen   \n",
              "\n",
              "   Time_employed  Time_bank Liab_ref Acc_ref  Home_Expn  Balance Decision  \n",
              "0              0          0        f   given        145        0   reject  \n",
              "1              0          0        t   given        140        0   reject  \n",
              "2              5         14        f   given          0     2200   accept  \n",
              "3              2          0        f   given          0        0   accept  \n",
              "4              0          0        f   given        228        0   reject  "
            ],
            "text/html": [
              "\n",
              "  <div id=\"df-f264d2ea-20bc-40a9-910e-37bffbf7979a\">\n",
              "    <div class=\"colab-df-container\">\n",
              "      <div>\n",
              "<style scoped>\n",
              "    .dataframe tbody tr th:only-of-type {\n",
              "        vertical-align: middle;\n",
              "    }\n",
              "\n",
              "    .dataframe tbody tr th {\n",
              "        vertical-align: top;\n",
              "    }\n",
              "\n",
              "    .dataframe thead th {\n",
              "        text-align: right;\n",
              "    }\n",
              "</style>\n",
              "<table border=\"1\" class=\"dataframe\">\n",
              "  <thead>\n",
              "    <tr style=\"text-align: right;\">\n",
              "      <th></th>\n",
              "      <th>Sex</th>\n",
              "      <th>Age</th>\n",
              "      <th>Time_at_address</th>\n",
              "      <th>Res_status</th>\n",
              "      <th>Telephone</th>\n",
              "      <th>Occupation</th>\n",
              "      <th>Job_status</th>\n",
              "      <th>Time_employed</th>\n",
              "      <th>Time_bank</th>\n",
              "      <th>Liab_ref</th>\n",
              "      <th>Acc_ref</th>\n",
              "      <th>Home_Expn</th>\n",
              "      <th>Balance</th>\n",
              "      <th>Decision</th>\n",
              "    </tr>\n",
              "  </thead>\n",
              "  <tbody>\n",
              "    <tr>\n",
              "      <th>0</th>\n",
              "      <td>M</td>\n",
              "      <td>50.750000</td>\n",
              "      <td>0.585</td>\n",
              "      <td>owner</td>\n",
              "      <td>given</td>\n",
              "      <td>unemploye</td>\n",
              "      <td>unemploye</td>\n",
              "      <td>0</td>\n",
              "      <td>0</td>\n",
              "      <td>f</td>\n",
              "      <td>given</td>\n",
              "      <td>145</td>\n",
              "      <td>0</td>\n",
              "      <td>reject</td>\n",
              "    </tr>\n",
              "    <tr>\n",
              "      <th>1</th>\n",
              "      <td>M</td>\n",
              "      <td>19.670000</td>\n",
              "      <td>10.000</td>\n",
              "      <td>rent</td>\n",
              "      <td>not_given</td>\n",
              "      <td>labourer</td>\n",
              "      <td>governmen</td>\n",
              "      <td>0</td>\n",
              "      <td>0</td>\n",
              "      <td>t</td>\n",
              "      <td>given</td>\n",
              "      <td>140</td>\n",
              "      <td>0</td>\n",
              "      <td>reject</td>\n",
              "    </tr>\n",
              "    <tr>\n",
              "      <th>2</th>\n",
              "      <td>F</td>\n",
              "      <td>52.830002</td>\n",
              "      <td>15.000</td>\n",
              "      <td>owner</td>\n",
              "      <td>given</td>\n",
              "      <td>creative_</td>\n",
              "      <td>private_s</td>\n",
              "      <td>5</td>\n",
              "      <td>14</td>\n",
              "      <td>f</td>\n",
              "      <td>given</td>\n",
              "      <td>0</td>\n",
              "      <td>2200</td>\n",
              "      <td>accept</td>\n",
              "    </tr>\n",
              "    <tr>\n",
              "      <th>3</th>\n",
              "      <td>M</td>\n",
              "      <td>22.670000</td>\n",
              "      <td>2.540</td>\n",
              "      <td>rent</td>\n",
              "      <td>not_given</td>\n",
              "      <td>creative_</td>\n",
              "      <td>governmen</td>\n",
              "      <td>2</td>\n",
              "      <td>0</td>\n",
              "      <td>f</td>\n",
              "      <td>given</td>\n",
              "      <td>0</td>\n",
              "      <td>0</td>\n",
              "      <td>accept</td>\n",
              "    </tr>\n",
              "    <tr>\n",
              "      <th>4</th>\n",
              "      <td>M</td>\n",
              "      <td>29.250000</td>\n",
              "      <td>13.000</td>\n",
              "      <td>owner</td>\n",
              "      <td>given</td>\n",
              "      <td>driver</td>\n",
              "      <td>governmen</td>\n",
              "      <td>0</td>\n",
              "      <td>0</td>\n",
              "      <td>f</td>\n",
              "      <td>given</td>\n",
              "      <td>228</td>\n",
              "      <td>0</td>\n",
              "      <td>reject</td>\n",
              "    </tr>\n",
              "  </tbody>\n",
              "</table>\n",
              "</div>\n",
              "      <button class=\"colab-df-convert\" onclick=\"convertToInteractive('df-f264d2ea-20bc-40a9-910e-37bffbf7979a')\"\n",
              "              title=\"Convert this dataframe to an interactive table.\"\n",
              "              style=\"display:none;\">\n",
              "        \n",
              "  <svg xmlns=\"http://www.w3.org/2000/svg\" height=\"24px\"viewBox=\"0 0 24 24\"\n",
              "       width=\"24px\">\n",
              "    <path d=\"M0 0h24v24H0V0z\" fill=\"none\"/>\n",
              "    <path d=\"M18.56 5.44l.94 2.06.94-2.06 2.06-.94-2.06-.94-.94-2.06-.94 2.06-2.06.94zm-11 1L8.5 8.5l.94-2.06 2.06-.94-2.06-.94L8.5 2.5l-.94 2.06-2.06.94zm10 10l.94 2.06.94-2.06 2.06-.94-2.06-.94-.94-2.06-.94 2.06-2.06.94z\"/><path d=\"M17.41 7.96l-1.37-1.37c-.4-.4-.92-.59-1.43-.59-.52 0-1.04.2-1.43.59L10.3 9.45l-7.72 7.72c-.78.78-.78 2.05 0 2.83L4 21.41c.39.39.9.59 1.41.59.51 0 1.02-.2 1.41-.59l7.78-7.78 2.81-2.81c.8-.78.8-2.07 0-2.86zM5.41 20L4 18.59l7.72-7.72 1.47 1.35L5.41 20z\"/>\n",
              "  </svg>\n",
              "      </button>\n",
              "      \n",
              "  <style>\n",
              "    .colab-df-container {\n",
              "      display:flex;\n",
              "      flex-wrap:wrap;\n",
              "      gap: 12px;\n",
              "    }\n",
              "\n",
              "    .colab-df-convert {\n",
              "      background-color: #E8F0FE;\n",
              "      border: none;\n",
              "      border-radius: 50%;\n",
              "      cursor: pointer;\n",
              "      display: none;\n",
              "      fill: #1967D2;\n",
              "      height: 32px;\n",
              "      padding: 0 0 0 0;\n",
              "      width: 32px;\n",
              "    }\n",
              "\n",
              "    .colab-df-convert:hover {\n",
              "      background-color: #E2EBFA;\n",
              "      box-shadow: 0px 1px 2px rgba(60, 64, 67, 0.3), 0px 1px 3px 1px rgba(60, 64, 67, 0.15);\n",
              "      fill: #174EA6;\n",
              "    }\n",
              "\n",
              "    [theme=dark] .colab-df-convert {\n",
              "      background-color: #3B4455;\n",
              "      fill: #D2E3FC;\n",
              "    }\n",
              "\n",
              "    [theme=dark] .colab-df-convert:hover {\n",
              "      background-color: #434B5C;\n",
              "      box-shadow: 0px 1px 3px 1px rgba(0, 0, 0, 0.15);\n",
              "      filter: drop-shadow(0px 1px 2px rgba(0, 0, 0, 0.3));\n",
              "      fill: #FFFFFF;\n",
              "    }\n",
              "  </style>\n",
              "\n",
              "      <script>\n",
              "        const buttonEl =\n",
              "          document.querySelector('#df-f264d2ea-20bc-40a9-910e-37bffbf7979a button.colab-df-convert');\n",
              "        buttonEl.style.display =\n",
              "          google.colab.kernel.accessAllowed ? 'block' : 'none';\n",
              "\n",
              "        async function convertToInteractive(key) {\n",
              "          const element = document.querySelector('#df-f264d2ea-20bc-40a9-910e-37bffbf7979a');\n",
              "          const dataTable =\n",
              "            await google.colab.kernel.invokeFunction('convertToInteractive',\n",
              "                                                     [key], {});\n",
              "          if (!dataTable) return;\n",
              "\n",
              "          const docLinkHtml = 'Like what you see? Visit the ' +\n",
              "            '<a target=\"_blank\" href=https://colab.research.google.com/notebooks/data_table.ipynb>data table notebook</a>'\n",
              "            + ' to learn more about interactive tables.';\n",
              "          element.innerHTML = '';\n",
              "          dataTable['output_type'] = 'display_data';\n",
              "          await google.colab.output.renderOutput(dataTable, element);\n",
              "          const docLink = document.createElement('div');\n",
              "          docLink.innerHTML = docLinkHtml;\n",
              "          element.appendChild(docLink);\n",
              "        }\n",
              "      </script>\n",
              "    </div>\n",
              "  </div>\n",
              "  "
            ]
          },
          "metadata": {},
          "execution_count": 24
        }
      ]
    },
    {
      "cell_type": "code",
      "source": [
        "# a. mean and variance of the Age column,\n",
        "print(\"Mean of the Age column in Loan Dataset is:\",loan['Age'].mean())\n",
        "print(\"Variance of the Age column in Loan Dataset is:\",loan['Age'].var())"
      ],
      "metadata": {
        "id": "B9hIROikBxDl",
        "colab": {
          "base_uri": "https://localhost:8080/"
        },
        "outputId": "0166964a-abda-479a-a8d2-d181ce59c80b"
      },
      "execution_count": 25,
      "outputs": [
        {
          "output_type": "stream",
          "name": "stdout",
          "text": [
            "Mean of the Age column in Loan Dataset is: 31.51016316713987\n",
            "Variance of the Age column in Loan Dataset is: 140.27074594116948\n"
          ]
        }
      ]
    },
    {
      "cell_type": "code",
      "source": [
        "# b. correlation coefficient between the two numerical columns Age and Time_at_address,\n",
        "coragta = loan['Age'].corr(loan['Time_at_address'])\n",
        "print(\"Correlation coefficient between the two numerical columns Age and Time_at_address is \",coragta)"
      ],
      "metadata": {
        "colab": {
          "base_uri": "https://localhost:8080/"
        },
        "id": "YXY80oKr5mzv",
        "outputId": "2c941b6d-a8ce-4d76-eb93-efcc67e900f5"
      },
      "execution_count": 26,
      "outputs": [
        {
          "output_type": "stream",
          "name": "stdout",
          "text": [
            "Correlation coefficient between the two numerical columns Age and Time_at_address is  0.21734150131364394\n"
          ]
        }
      ]
    },
    {
      "cell_type": "code",
      "source": [
        "# c. the conditional probability p(Decision = reject | Occupation = Unemployed),\n",
        "loan = pd.read_excel('loan.xlsx',index_col=None)\n",
        "\n",
        "matrix = pd.crosstab(loan.Decision, loan.Occupation, normalize=True, margins=True)\n",
        "matrix.loc[:,['unemploye']]\n",
        "print(matrix)\n",
        "\n",
        "cp = matrix.loc['reject','unemploye']/matrix.loc['All','unemploye']\n",
        "\n",
        "print(\"\\nConditional Probability is:\",cp)"
      ],
      "metadata": {
        "colab": {
          "base_uri": "https://localhost:8080/"
        },
        "id": "W5WX9SJL5pa4",
        "outputId": "37299dd4-50e5-4750-c8c6-927cc94326e6"
      },
      "execution_count": 27,
      "outputs": [
        {
          "output_type": "stream",
          "name": "stdout",
          "text": [
            "Occupation  creative_    driver  executive  guard_etc  labourer   manager  \\\n",
            "Decision                                                                    \n",
            "accept       0.102564  0.009324   0.027972   0.018648  0.027972  0.025641   \n",
            "reject       0.111888  0.027972   0.018648   0.062937  0.069930  0.039627   \n",
            "All          0.214452  0.037296   0.046620   0.081585  0.097902  0.065268   \n",
            "\n",
            "Occupation  office_st  productio  professio     sales  semi_pro  unemploye  \\\n",
            "Decision                                                                     \n",
            "accept       0.072261   0.051282   0.039627  0.027972  0.034965   0.009324   \n",
            "reject       0.041958   0.053613   0.009324  0.044289  0.011655   0.060606   \n",
            "All          0.114219   0.104895   0.048951  0.072261  0.046620   0.069930   \n",
            "\n",
            "Occupation       All  \n",
            "Decision              \n",
            "accept      0.447552  \n",
            "reject      0.552448  \n",
            "All         1.000000  \n",
            "\n",
            "Conditional Probability is: 0.8666666666666666\n"
          ]
        }
      ]
    },
    {
      "cell_type": "code",
      "source": [
        "# d. frequency of values in the Job-status column and then draw a bar diagram using matplotlib.\n",
        "import matplotlib.pyplot as plt\n",
        "import seaborn as sns\n",
        "\n",
        "plt.style.use('default')\n",
        "jbsts = loan['Job_status'].value_counts()\n",
        "print(jbsts,\"\\n\")\n",
        "jbsts.plot(kind='bar');"
      ],
      "metadata": {
        "colab": {
          "base_uri": "https://localhost:8080/",
          "height": 648
        },
        "id": "t5XrYw4P5qhf",
        "outputId": "edd1483c-4920-4c0f-ffe0-c8fed8c2a55f"
      },
      "execution_count": 28,
      "outputs": [
        {
          "output_type": "stream",
          "name": "stdout",
          "text": [
            "private_s    265\n",
            "governmen     82\n",
            "self_empl     37\n",
            "unemploye     31\n",
            "retired        8\n",
            "student        5\n",
            "military       1\n",
            "Name: Job_status, dtype: int64 \n",
            "\n"
          ]
        },
        {
          "output_type": "display_data",
          "data": {
            "text/plain": [
              "<Figure size 640x480 with 1 Axes>"
            ],
            "image/png": "[encoded data removed]"
          },
          "metadata": {}
        }
      ]
    },
    {
      "cell_type": "markdown",
      "source": [
        "**# 16. Suppose the loan data file provides some examples of applications to accept or reject, as specified in the Decision column N, given the input background info in columns A-M. Come up with various ways to find out the degree of relevance between each input “categorical” column of A-M and the Decision column N. (hint. Chi-Square Test of Independence and Mutual Information)**"
      ],
      "metadata": {
        "id": "C2Z1Wr_w5tZt"
      }
    },
    {
      "cell_type": "code",
      "source": [
        "import pandas as pd\n",
        "import numpy as np\n",
        "from scipy.stats import chi2_contingency\n",
        "import seaborn as sns\n",
        "from io import StringIO\n",
        "import matplotlib.pyplot as plt\n",
        "from bioinfokit.analys import stat\n",
        "\n",
        "loan = pd.read_excel('loan.xlsx',index_col=None)\n",
        "print(loan.head())\n",
        "print(\"\\n\")\n",
        "\n",
        "loan_tab = pd.crosstab(loan.Sex, loan.Decision)\n",
        "out = stat()\n",
        "out.chisq(df = loan_tab)\n",
        "print(\"Chi-squared test for independence for Sex & Decision\")\n",
        "print(out.summary)\n",
        "out_df = StringIO(out.summary)\n",
        "chi_out = pd.read_csv(out_df)\n",
        "print(\"\\n\", chi_out.iat[2,0])\n",
        "\n",
        "loan_tab = pd.crosstab(loan.Age, loan.Decision)\n",
        "out = stat()\n",
        "out.chisq(df = loan_tab)\n",
        "print(\"\\nChi-squared test for independence for Age & Decision\")\n",
        "print(out.summary)\n",
        "out_df = StringIO(out.summary)\n",
        "chi_out = pd.read_csv(out_df)\n",
        "print(\"\\n\", chi_out.iat[2,0])\n",
        "\n",
        "loan_tab = pd.crosstab(loan.Res_status, loan.Decision)\n",
        "out = stat()\n",
        "out.chisq(df = loan_tab)\n",
        "print(\"\\nChi-squared test for independence for Res_status & Decision\")\n",
        "print(out.summary)\n",
        "out_df = StringIO(out.summary)\n",
        "chi_out = pd.read_csv(out_df)\n",
        "print(\"\\n\", chi_out.iat[2,0])\n",
        "\n",
        "loan_tab = pd.crosstab(loan.Occupation, loan.Decision)\n",
        "out = stat()\n",
        "out.chisq(df = loan_tab)\n",
        "print(\"\\nChi-squared test for independence for Occupation & Decision\")\n",
        "print(out.summary)\n",
        "out_df = StringIO(out.summary)\n",
        "chi_out = pd.read_csv(out_df)\n",
        "print(\"\\n\", chi_out.iat[2,0])\n",
        "\n",
        "loan_tab = pd.crosstab(loan.Job_status, loan.Decision)\n",
        "out = stat()\n",
        "out.chisq(df = loan_tab)\n",
        "print(\"\\nChi-squared test for independence for Job_status & Decision\")\n",
        "print(out.summary)\n",
        "out_df = StringIO(out.summary)\n",
        "chi_out = pd.read_csv(out_df)\n",
        "print(\"\\n\", chi_out.iat[2,0])\n",
        "\n",
        "loan_tab = pd.crosstab(loan.Time_employed, loan.Decision)\n",
        "out = stat()\n",
        "out.chisq(df = loan_tab)\n",
        "print(\"\\nChi-squared test for independence for Time_employed & Decision\")\n",
        "print(out.summary)\n",
        "out_df = StringIO(out.summary)\n",
        "chi_out = pd.read_csv(out_df)\n",
        "print(\"\\n\", chi_out.iat[2,0])\n",
        "\n",
        "loan_tab = pd.crosstab(loan.Home_Expn, loan.Decision)\n",
        "out = stat()\n",
        "out.chisq(df = loan_tab)\n",
        "print(\"\\nChi-squared test for independence for Home_Expn & Decision\")\n",
        "print(out.summary)\n",
        "out_df = StringIO(out.summary)\n",
        "chi_out = pd.read_csv(out_df)\n",
        "print(\"\\n\", chi_out.iat[2,0])\n",
        "\n",
        "loan_tab = pd.crosstab(loan.Balance, loan.Decision)\n",
        "out = stat()\n",
        "out.chisq(df = loan_tab)\n",
        "print(\"\\nChi-squared test for independence for Balance & Decision\")\n",
        "print(out.summary)\n",
        "out_df = StringIO(out.summary)\n",
        "chi_out = pd.read_csv(out_df)\n",
        "print(\"\\n\", chi_out.iat[2,0])"
      ],
      "metadata": {
        "id": "z3qwaVrPB4nm",
        "colab": {
          "base_uri": "https://localhost:8080/"
        },
        "outputId": "82fdcf6e-ffb9-4212-d33e-2792d83fb012"
      },
      "execution_count": 31,
      "outputs": [
        {
          "output_type": "stream",
          "name": "stdout",
          "text": [
            "  Sex        Age  Time_at_address Res_status  Telephone Occupation Job_status  \\\n",
            "0   M  50.750000            0.585      owner      given  unemploye  unemploye   \n",
            "1   M  19.670000           10.000       rent  not_given   labourer  governmen   \n",
            "2   F  52.830002           15.000      owner      given  creative_  private_s   \n",
            "3   M  22.670000            2.540       rent  not_given  creative_  governmen   \n",
            "4   M  29.250000           13.000      owner      given     driver  governmen   \n",
            "\n",
            "   Time_employed  Time_bank Liab_ref Acc_ref  Home_Expn  Balance Decision  \n",
            "0              0          0        f   given        145        0   reject  \n",
            "1              0          0        t   given        140        0   reject  \n",
            "2              5         14        f   given          0     2200   accept  \n",
            "3              2          0        f   given          0        0   accept  \n",
            "4              0          0        f   given        228        0   reject  \n",
            "\n",
            "\n",
            "Chi-squared test for independence for Sex & Decision\n",
            "\n",
            "Chi-squared test for independence\n",
            "\n",
            "Test              Df    Chi-square    P-value\n",
            "--------------  ----  ------------  ---------\n",
            "Pearson            1      0.969833   0.324722\n",
            "Log-likelihood     1      0.967953   0.325191\n",
            "\n",
            "\n",
            " Pearson            1      0.969833   0.324722\n",
            "\n",
            "Chi-squared test for independence for Age & Decision\n",
            "\n",
            "Chi-squared test for independence\n",
            "\n",
            "Test              Df    Chi-square      P-value\n",
            "--------------  ----  ------------  -----------\n",
            "Pearson          273       285.016  0.29622\n",
            "Log-likelihood   273       387.887  5.76509e-06\n",
            "\n",
            "\n",
            " Pearson          273       285.016  0.29622\n",
            "\n",
            "Chi-squared test for independence for Res_status & Decision\n",
            "\n",
            "Chi-squared test for independence\n",
            "\n",
            "Test              Df    Chi-square     P-value\n",
            "--------------  ----  ------------  ----------\n",
            "Pearson            1       7.64583  0.00569037\n",
            "Log-likelihood     1       7.80996  0.00519591\n",
            "\n",
            "\n",
            " Pearson            1       7.64583  0.00569037\n",
            "\n",
            "Chi-squared test for independence for Occupation & Decision\n",
            "\n",
            "Chi-squared test for independence\n",
            "\n",
            "Test              Df    Chi-square      P-value\n",
            "--------------  ----  ------------  -----------\n",
            "Pearson           11       54.3993  9.98007e-08\n",
            "Log-likelihood    11       57.6239  2.55315e-08\n",
            "\n",
            "\n",
            " Pearson           11       54.3993  9.98007e-08\n",
            "\n",
            "Chi-squared test for independence for Job_status & Decision\n",
            "\n",
            "Chi-squared test for independence\n",
            "\n",
            "Test              Df    Chi-square      P-value\n",
            "--------------  ----  ------------  -----------\n",
            "Pearson            6       25.6191  0.000262115\n",
            "Log-likelihood     6       27.9294  9.68827e-05\n",
            "\n",
            "\n",
            " Pearson            6       25.6191  0.000262115\n",
            "\n",
            "Chi-squared test for independence for Time_employed & Decision\n",
            "\n",
            "Chi-squared test for independence\n",
            "\n",
            "Test              Df    Chi-square      P-value\n",
            "--------------  ----  ------------  -----------\n",
            "Pearson           18       94.1618  2.56447e-12\n",
            "Log-likelihood    18      106.364   1.49001e-14\n",
            "\n",
            "\n",
            " Pearson           18       94.1618  2.56447e-12\n",
            "\n",
            "Chi-squared test for independence for Home_Expn & Decision\n",
            "\n",
            "Chi-squared test for independence\n",
            "\n",
            "Test              Df    Chi-square      P-value\n",
            "--------------  ----  ------------  -----------\n",
            "Pearson          125       163.136  0.0124173\n",
            "Log-likelihood   125       207.736  4.78305e-06\n",
            "\n",
            "\n",
            " Pearson          125       163.136  0.0124173\n",
            "\n",
            "Chi-squared test for independence for Balance & Decision\n",
            "\n",
            "Chi-squared test for independence\n",
            "\n",
            "Test              Df    Chi-square      P-value\n",
            "--------------  ----  ------------  -----------\n",
            "Pearson          170       212.895  0.0142381\n",
            "Log-likelihood   170       287.305  4.77146e-08\n",
            "\n",
            "\n",
            " Pearson          170       212.895  0.0142381\n"
          ]
        }
      ]
    },
    {
      "cell_type": "markdown",
      "source": [
        "**# 17. Define a class, called Lunch, with __init__() method should have two arguments, self and menu, where menu is a string. Add a method called menu_price. It will involve an if statement: if \"menu 1\" then print \"Price 12.00\", if \"menu 2\" then print \"Price 13.40\", else print \"Error in menu\". Test with Paul = Lunch(\"menu 1\") and call Paul.menu_price().**"
      ],
      "metadata": {
        "id": "q2xqP4gQ5wZ-"
      }
    },
    {
      "cell_type": "code",
      "source": [
        "class Lunch:\n",
        "  def __init__(self, menu):\n",
        "    self.menu = menu\n",
        "\n",
        "  def menu_price(self):\n",
        "    if self.menu == \"menu 1\":\n",
        "      print('Price 12.00')\n",
        "    elif self.menu == \"menu 2\":\n",
        "      print('Price 13.40')\n",
        "    else:\n",
        "      print('Error in menu')\n",
        "\n",
        "Paul = Lunch(\"menu 1\")\n",
        "Paul.menu_price()"
      ],
      "metadata": {
        "id": "XCla2NN_B83a",
        "colab": {
          "base_uri": "https://localhost:8080/"
        },
        "outputId": "5657e8e0-861d-42e4-ad6c-b775a9fbf94c"
      },
      "execution_count": 32,
      "outputs": [
        {
          "output_type": "stream",
          "name": "stdout",
          "text": [
            "Price 12.00\n"
          ]
        }
      ]
    },
    {
      "cell_type": "markdown",
      "source": [
        "**# 18. In the Kaggle insurance data set (https://www.kaggle.com/c/prudential-life-insurance-assessment/data), the Response column is the output variable and the rest are input variables. Perform the following:**"
      ],
      "metadata": {
        "id": "UsbIvzes5zcC"
      }
    },
    {
      "cell_type": "code",
      "source": [
        "# a. Fill in the missing values applying an appropriate technique.\n",
        "import pandas as pd\n",
        "from google.colab import files\n",
        "import numpy as np\n",
        "import matplotlib.pyplot as plt\n",
        "from sklearn import linear_model\n",
        "import seaborn as sns\n",
        "from pandas.core.groupby.groupby import DataFrame\n",
        "from statsmodels.stats.outliers_influence import variance_inflation_factor\n",
        "import sklearn\n",
        "from sklearn.datasets import make_classification\n",
        "from operator import itemgetter\n",
        "from sklearn.datasets import make_regression\n",
        "\n",
        "\n",
        "train = pd.read_csv('train.csv',index_col=None)\n",
        "\n",
        "length = 0\n",
        "miss_cols = train.columns[train.isna().any()].tolist()\n",
        "print(miss_cols)\n",
        "\n",
        "for i in (miss_cols):\n",
        "  length += 1\n",
        "\n",
        "for i in range(0, length):\n",
        "  print(train[miss_cols[i]].mean())\n",
        "  train[miss_cols[i]] = train[miss_cols[i]].replace(np.nan, train[miss_cols[i]].mean())\n",
        "\n",
        "print(\"\\n\")\n",
        "\n",
        "\n",
        "# b. Make use of the insurance data set to explore the multicollinearity among the input variables.\n",
        "output = train['Response']\n",
        "train2 = train.drop(['Response','Product_Info_2'],axis=1)\n",
        "\n",
        "df = pd.DataFrame()\n",
        "df[\"columns\"] = train2.columns\n",
        "lnr_reg = linear_model.LinearRegression()\n",
        "train_col = train2.columns.tolist()\n",
        "lnr_reg.fit(train2[train_col], output)\n",
        "print(lnr_reg.coef_)\n",
        "\n",
        "\n",
        "# c. Single out three input variables that are most relevant to predicting the output variable.\n",
        "train_out = train['Response']\n",
        "train_inp = train.drop(['Response','Product_Info_2'],axis=1)\n",
        "\n",
        "count_row = train_inp.shape[1]\n",
        "\n",
        "train_model = linear_model.LinearRegression()\n",
        "train_model.fit(train_inp, train_out)\n",
        "relevant = train_model.coef_\n",
        "dict_imp = {}\n",
        "for i,v in enumerate(relevant):\n",
        "  dict_imp[i] = v\n",
        "\n",
        "output = dict(sorted(dict_imp.items(), key = itemgetter(1), reverse = True)[:3])\n",
        "\n",
        "print(\"\\n3 Relevant Features are: \")\n",
        "for i in output:\n",
        "  print(train.columns[i-1])"
      ],
      "metadata": {
        "id": "SRrojoEsB__G",
        "colab": {
          "base_uri": "https://localhost:8080/"
        },
        "outputId": "6260e56b-6302-4e31-ee82-b1f374c37f4c"
      },
      "execution_count": 37,
      "outputs": [
        {
          "output_type": "stream",
          "name": "stdout",
          "text": [
            "['Employment_Info_1', 'Employment_Info_4', 'Employment_Info_6', 'Insurance_History_5', 'Family_Hist_2', 'Family_Hist_3', 'Family_Hist_4', 'Family_Hist_5', 'Medical_History_1', 'Medical_History_10', 'Medical_History_15', 'Medical_History_24', 'Medical_History_32']\n",
            "0.07758209953084466\n",
            "0.0062826743249306104\n",
            "0.36146880400148373\n",
            "0.0017330636999305575\n",
            "0.4745500642717982\n",
            "0.49773737657983297\n",
            "0.44489025353790096\n",
            "0.4846349296655094\n",
            "7.962172225303019\n",
            "141.1184919210054\n",
            "123.76097396009469\n",
            "50.63562220468298\n",
            "11.965672990063235\n",
            "\n",
            "\n",
            "[ 1.21869650e-07 -1.22473328e-01 -8.02525679e-03  7.67558626e-01\n",
            " -2.23723628e-01 -3.15291930e-02  5.29417501e-02 -1.82215465e+00\n",
            "  2.99354971e+00 -5.24395692e+00 -2.36328536e+00  8.37845134e-02\n",
            " -1.51077016e-03 -1.53879581e-01 -3.99710761e-01  3.91940273e-02\n",
            "  9.28707084e-03 -1.49740165e-01 -8.88819709e-01 -2.95901780e-03\n",
            "  1.23567047e-02 -5.89195720e-01  2.59148278e-01 -3.63324658e-01\n",
            " -3.13853222e-01 -4.05698184e-01  8.53915892e-02  5.70582825e-02\n",
            " -2.37276495e+00  5.34433109e-02  8.91258221e-02 -1.04531063e-01\n",
            " -5.57161848e-03  5.78882212e-01  4.58902744e-01  7.31645377e-01\n",
            "  5.79125977e-01  5.69048097e-03  1.48636324e-04  2.42520032e-01\n",
            "  6.79362491e-01 -1.84583329e+00  8.32358682e-02  4.91439213e-01\n",
            "  4.55713821e-02 -8.22548545e-03  1.99734985e-03  6.11157865e-01\n",
            " -2.20416238e-01  3.04776491e-01  2.27341220e-01  8.84112082e-03\n",
            " -9.02486051e-03  6.18381539e-01 -7.91617402e-01 -4.45422640e-01\n",
            "  1.05258024e+00  5.59846949e-02  3.49121830e-01  4.17049037e-01\n",
            " -5.23130540e-04  2.30063122e-01  2.55957724e-01  4.81335541e-01\n",
            " -2.76799688e-01  6.04570979e-02 -9.67026194e-01  4.52080783e-01\n",
            "  4.70405347e-03  1.26874428e-01 -6.47221319e-03 -1.27852869e+00\n",
            " -2.81479843e-02  2.26979045e-01 -3.55258296e-01  1.80003040e-01\n",
            "  5.20568500e-01  2.72479563e-02  2.35690890e-03  4.06246152e-01\n",
            " -1.45547996e+00 -1.59398989e-01  7.39700184e-02  3.02628130e-01\n",
            "  7.72013658e-02  5.14184316e-02 -7.86811936e-01  3.25934619e-02\n",
            "  1.56222196e-01  2.23364678e-01  9.50691738e-02  9.43562287e-02\n",
            "  2.38315736e-01  1.67546491e-01 -1.16184775e-01 -1.96279789e-01\n",
            "  4.46385746e-01  1.65621671e-01 -1.74437096e-02  2.26206629e-01\n",
            " -9.40501297e-03 -1.26599326e-01  3.16631183e-01  2.35108030e-01\n",
            "  1.43164705e-01  1.30318145e-01  1.94213942e-01  1.66728139e-01\n",
            " -2.32364398e-01  1.06113358e-01  4.23127441e-01  4.30932734e-01\n",
            "  2.28061077e-01  3.92256620e-02 -1.43877375e-01 -9.88412188e-01\n",
            "  2.68561839e-01  1.49768468e-01  9.25756227e-01  6.19661978e-02\n",
            " -9.77396991e-02  1.66136996e-02  3.86475293e-01  2.08013424e-01\n",
            " -1.04159596e-01 -7.43906572e-02]\n",
            "\n",
            "3 Relevant Features are: \n",
            "Product_Info_7\n",
            "Medical_History_18\n",
            "Medical_Keyword_39\n"
          ]
        }
      ]
    }
  ]
}