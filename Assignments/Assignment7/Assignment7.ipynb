{
  "nbformat": 4,
  "nbformat_minor": 0,
  "metadata": {
    "colab": {
      "provenance": [],
      "collapsed_sections": []
    },
    "kernelspec": {
      "name": "python3",
      "display_name": "Python 3"
    },
    "language_info": {
      "name": "python"
    }
  },
  "cells": [
    {
      "cell_type": "markdown",
      "source": [
        "# **Neural Network Assignment**"
      ],
      "metadata": {
        "id": "CugiRRAHP3w8"
      }
    },
    {
      "cell_type": "markdown",
      "source": [
        "Apply neural networks on Boston housing dataset to predict the median value. Please prepare 3 slides on your approach and findings"
      ],
      "metadata": {
        "id": "CwSWY7mkQD3N"
      }
    },
    {
      "cell_type": "code",
      "source": [
        "! pip install --upgrade xlrd"
      ],
      "metadata": {
        "colab": {
          "base_uri": "https://localhost:8080/"
        },
        "id": "Jj4z68N1Q8hp",
        "outputId": "c07a4631-c011-4437-badf-f9e6ddbadbd4"
      },
      "execution_count": 1,
      "outputs": [
        {
          "output_type": "stream",
          "name": "stdout",
          "text": [
            "Looking in indexes: https://pypi.org/simple, https://us-python.pkg.dev/colab-wheels/public/simple/\n",
            "Requirement already satisfied: xlrd in /usr/local/lib/python3.7/dist-packages (1.1.0)\n",
            "Collecting xlrd\n",
            "  Downloading xlrd-2.0.1-py2.py3-none-any.whl (96 kB)\n",
            "\u001b[K     |████████████████████████████████| 96 kB 2.5 MB/s \n",
            "\u001b[?25hInstalling collected packages: xlrd\n",
            "  Attempting uninstall: xlrd\n",
            "    Found existing installation: xlrd 1.1.0\n",
            "    Uninstalling xlrd-1.1.0:\n",
            "      Successfully uninstalled xlrd-1.1.0\n",
            "Successfully installed xlrd-2.0.1\n"
          ]
        }
      ]
    },
    {
      "cell_type": "code",
      "execution_count": 74,
      "metadata": {
        "colab": {
          "base_uri": "https://localhost:8080/",
          "height": 265
        },
        "id": "Go-1rZcePnU4",
        "outputId": "7de38d58-fdfb-4536-dd55-8d4446529a84"
      },
      "outputs": [
        {
          "output_type": "display_data",
          "data": {
            "text/plain": [
              "<Figure size 432x288 with 1 Axes>"
            ],
            "image/png": "[encoded data removed]"
          },
          "metadata": {
            "needs_background": "light"
          }
        }
      ],
      "source": [
        "import pandas as pd\n",
        "import numpy as np\n",
        "from matplotlib import pyplot\n",
        "from sklearn.model_selection import train_test_split\n",
        "from sklearn.preprocessing import normalize\n",
        "from tensorflow.keras.models import Sequential\n",
        "from tensorflow.keras.layers import Dense\n",
        "from keras.utils.vis_utils import plot_model\n",
        "from sklearn.metrics import accuracy_score\n",
        "from IPython.display import Image\n",
        "\n",
        "## Fetching Boston Housing Dataset ##\n",
        "bos_hous = pd.read_excel('boston housing.xls')\n",
        "bos_hous.columns\n",
        "\n",
        "\n",
        "## Plotting Boxplot to identify outliers in each columns ##\n",
        "def box_plot(bos_hous, feature):\n",
        "  bos_hous.boxplot(column = feature)\n",
        "  # plt.grid(False)\n",
        "  # plt.show()\n",
        "\n",
        "cols = bos_hous.columns\n",
        "for col in cols:\n",
        "  box_plot(bos_hous, col)\n",
        "\n",
        "\n",
        "## Defining outliers in each columns and removing them to pre-process data ##\n",
        "def outlier(bos_hous, feature):\n",
        "  q1 = bos_hous[feature].quantile(0.25)\n",
        "  q3 = bos_hous[feature].quantile(0.75)\n",
        "  iqr = q3 - q1\n",
        "  lb = q1 - 1.5 * iqr\n",
        "  ub = q3 + 1.5 * iqr\n",
        "  out_index = bos_hous.index[(bos_hous[feature] < lb) | (bos_hous[feature] > ub)]\n",
        "  return out_index\n",
        "\n",
        "out_list = []\n",
        "for feature in cols:\n",
        "  out_list.extend(outlier(bos_hous, feature))\n",
        "\n",
        "def out_exc(bos_hous, out_list):\n",
        "  outlist = sorted(set(out_list))\n",
        "  bos_hous = bos_hous.drop(outlist)\n",
        "  return bos_hous\n",
        "\n",
        "\n",
        "## Normalizing Dataset ##\n",
        "bos_hous = out_exc(bos_hous, out_list)\n",
        "bos_hous_scaled = normalize(bos_hous)\n",
        "bos_hous_scaled = pd.DataFrame(bos_hous_scaled, columns = bos_hous.columns)\n",
        "bos_hous_scaled\n",
        "\n",
        "categ = bos_hous_scaled.drop(['MV'],axis=1)\n",
        "dep = bos_hous_scaled[['MV']]\n",
        "X = np.array(categ)\n",
        "Y = np.array(dep)\n",
        "\n",
        "\n",
        "## Train Test Split to evaluate neural network model ##\n",
        "X_train, X_test, Y_train, Y_test = train_test_split(X, Y, test_size = 0.2, random_state = 42)"
      ]
    },
    {
      "cell_type": "code",
      "source": [
        "## Fitting Neural Network Model with Sigmoid function using Sequential Method and adding hidden layers to network ##\n",
        "neural_model = Sequential(name = 'BostonHousing')\n",
        "\n",
        "neural_model.add(Dense(8, input_dim = 13, activation = 'sigmoid', name = 'Hidden-1'))\n",
        "neural_model.add(Dense(3, activation = 'sigmoid', name = 'Hidden-2'))\n",
        "neural_model.add(Dense(1, activation = 'sigmoid', name = 'Output'))\n",
        "neural_model.compile(optimizer = 'sgd', loss = 'mse', metrics = ['mse', 'mae'])\n",
        "hist = neural_model.fit(X_train, Y_train, batch_size = 12, epochs = 100, validation_data=(X_test,Y_test))\n",
        "\n",
        "\n",
        "## Printing Summary of the model ##\n",
        "print(neural_model.summary(),\"\\n\")"
      ],
      "metadata": {
        "colab": {
          "base_uri": "https://localhost:8080/"
        },
        "id": "-AROzNq6MZsW",
        "outputId": "f982fd68-13fc-44ba-b58d-5247854e7869"
      },
      "execution_count": 75,
      "outputs": [
        {
          "output_type": "stream",
          "name": "stdout",
          "text": [
            "Epoch 1/100\n",
            "18/18 [==============================] - 1s 36ms/step - loss: 0.2175 - mse: 0.2175 - mae: 0.4661 - val_loss: 0.2106 - val_mse: 0.2106 - val_mae: 0.4588\n",
            "Epoch 2/100\n",
            "18/18 [==============================] - 0s 5ms/step - loss: 0.2033 - mse: 0.2033 - mae: 0.4507 - val_loss: 0.1970 - val_mse: 0.1970 - val_mae: 0.4437\n",
            "Epoch 3/100\n",
            "18/18 [==============================] - 0s 4ms/step - loss: 0.1902 - mse: 0.1902 - mae: 0.4359 - val_loss: 0.1843 - val_mse: 0.1843 - val_mae: 0.4292\n",
            "Epoch 4/100\n",
            "18/18 [==============================] - 0s 3ms/step - loss: 0.1779 - mse: 0.1779 - mae: 0.4216 - val_loss: 0.1725 - val_mse: 0.1725 - val_mae: 0.4152\n",
            "Epoch 5/100\n",
            "18/18 [==============================] - 0s 6ms/step - loss: 0.1665 - mse: 0.1665 - mae: 0.4079 - val_loss: 0.1615 - val_mse: 0.1615 - val_mae: 0.4017\n",
            "Epoch 6/100\n",
            "18/18 [==============================] - 0s 4ms/step - loss: 0.1559 - mse: 0.1559 - mae: 0.3947 - val_loss: 0.1513 - val_mse: 0.1513 - val_mae: 0.3889\n",
            "Epoch 7/100\n",
            "18/18 [==============================] - 0s 4ms/step - loss: 0.1461 - mse: 0.1461 - mae: 0.3821 - val_loss: 0.1419 - val_mse: 0.1419 - val_mae: 0.3766\n",
            "Epoch 8/100\n",
            "18/18 [==============================] - 0s 5ms/step - loss: 0.1371 - mse: 0.1371 - mae: 0.3700 - val_loss: 0.1332 - val_mse: 0.1332 - val_mae: 0.3648\n",
            "Epoch 9/100\n",
            "18/18 [==============================] - 0s 5ms/step - loss: 0.1287 - mse: 0.1287 - mae: 0.3585 - val_loss: 0.1251 - val_mse: 0.1251 - val_mae: 0.3536\n",
            "Epoch 10/100\n",
            "18/18 [==============================] - 0s 5ms/step - loss: 0.1210 - mse: 0.1210 - mae: 0.3476 - val_loss: 0.1177 - val_mse: 0.1177 - val_mae: 0.3429\n",
            "Epoch 11/100\n",
            "18/18 [==============================] - 0s 6ms/step - loss: 0.1138 - mse: 0.1138 - mae: 0.3372 - val_loss: 0.1108 - val_mse: 0.1108 - val_mae: 0.3328\n",
            "Epoch 12/100\n",
            "18/18 [==============================] - 0s 4ms/step - loss: 0.1072 - mse: 0.1072 - mae: 0.3272 - val_loss: 0.1045 - val_mse: 0.1045 - val_mae: 0.3231\n",
            "Epoch 13/100\n",
            "18/18 [==============================] - 0s 5ms/step - loss: 0.1011 - mse: 0.1011 - mae: 0.3177 - val_loss: 0.0986 - val_mse: 0.0986 - val_mae: 0.3139\n",
            "Epoch 14/100\n",
            "18/18 [==============================] - 0s 4ms/step - loss: 0.0955 - mse: 0.0955 - mae: 0.3087 - val_loss: 0.0932 - val_mse: 0.0932 - val_mae: 0.3051\n",
            "Epoch 15/100\n",
            "18/18 [==============================] - 0s 4ms/step - loss: 0.0902 - mse: 0.0902 - mae: 0.3001 - val_loss: 0.0881 - val_mse: 0.0881 - val_mae: 0.2967\n",
            "Epoch 16/100\n",
            "18/18 [==============================] - 0s 5ms/step - loss: 0.0854 - mse: 0.0854 - mae: 0.2920 - val_loss: 0.0835 - val_mse: 0.0835 - val_mae: 0.2887\n",
            "Epoch 17/100\n",
            "18/18 [==============================] - 0s 4ms/step - loss: 0.0809 - mse: 0.0809 - mae: 0.2842 - val_loss: 0.0791 - val_mse: 0.0791 - val_mae: 0.2811\n",
            "Epoch 18/100\n",
            "18/18 [==============================] - 0s 4ms/step - loss: 0.0767 - mse: 0.0767 - mae: 0.2767 - val_loss: 0.0751 - val_mse: 0.0751 - val_mae: 0.2739\n",
            "Epoch 19/100\n",
            "18/18 [==============================] - 0s 4ms/step - loss: 0.0729 - mse: 0.0729 - mae: 0.2696 - val_loss: 0.0714 - val_mse: 0.0714 - val_mae: 0.2670\n",
            "Epoch 20/100\n",
            "18/18 [==============================] - 0s 4ms/step - loss: 0.0693 - mse: 0.0693 - mae: 0.2629 - val_loss: 0.0679 - val_mse: 0.0679 - val_mae: 0.2604\n",
            "Epoch 21/100\n",
            "18/18 [==============================] - 0s 4ms/step - loss: 0.0659 - mse: 0.0659 - mae: 0.2564 - val_loss: 0.0646 - val_mse: 0.0646 - val_mae: 0.2541\n",
            "Epoch 22/100\n",
            "18/18 [==============================] - 0s 4ms/step - loss: 0.0628 - mse: 0.0628 - mae: 0.2503 - val_loss: 0.0616 - val_mse: 0.0616 - val_mae: 0.2481\n",
            "Epoch 23/100\n",
            "18/18 [==============================] - 0s 5ms/step - loss: 0.0599 - mse: 0.0599 - mae: 0.2444 - val_loss: 0.0588 - val_mse: 0.0588 - val_mae: 0.2423\n",
            "Epoch 24/100\n",
            "18/18 [==============================] - 0s 5ms/step - loss: 0.0571 - mse: 0.0571 - mae: 0.2387 - val_loss: 0.0562 - val_mse: 0.0562 - val_mae: 0.2368\n",
            "Epoch 25/100\n",
            "18/18 [==============================] - 0s 5ms/step - loss: 0.0546 - mse: 0.0546 - mae: 0.2334 - val_loss: 0.0537 - val_mse: 0.0537 - val_mae: 0.2315\n",
            "Epoch 26/100\n",
            "18/18 [==============================] - 0s 5ms/step - loss: 0.0522 - mse: 0.0522 - mae: 0.2282 - val_loss: 0.0514 - val_mse: 0.0514 - val_mae: 0.2265\n",
            "Epoch 27/100\n",
            "18/18 [==============================] - 0s 5ms/step - loss: 0.0500 - mse: 0.0500 - mae: 0.2233 - val_loss: 0.0492 - val_mse: 0.0492 - val_mae: 0.2217\n",
            "Epoch 28/100\n",
            "18/18 [==============================] - 0s 5ms/step - loss: 0.0479 - mse: 0.0479 - mae: 0.2185 - val_loss: 0.0472 - val_mse: 0.0472 - val_mae: 0.2170\n",
            "Epoch 29/100\n",
            "18/18 [==============================] - 0s 5ms/step - loss: 0.0459 - mse: 0.0459 - mae: 0.2140 - val_loss: 0.0453 - val_mse: 0.0453 - val_mae: 0.2126\n",
            "Epoch 30/100\n",
            "18/18 [==============================] - 0s 5ms/step - loss: 0.0441 - mse: 0.0441 - mae: 0.2096 - val_loss: 0.0435 - val_mse: 0.0435 - val_mae: 0.2083\n",
            "Epoch 31/100\n",
            "18/18 [==============================] - 0s 5ms/step - loss: 0.0423 - mse: 0.0423 - mae: 0.2054 - val_loss: 0.0418 - val_mse: 0.0418 - val_mae: 0.2042\n",
            "Epoch 32/100\n",
            "18/18 [==============================] - 0s 4ms/step - loss: 0.0407 - mse: 0.0407 - mae: 0.2014 - val_loss: 0.0402 - val_mse: 0.0402 - val_mae: 0.2003\n",
            "Epoch 33/100\n",
            "18/18 [==============================] - 0s 4ms/step - loss: 0.0392 - mse: 0.0392 - mae: 0.1975 - val_loss: 0.0387 - val_mse: 0.0387 - val_mae: 0.1965\n",
            "Epoch 34/100\n",
            "18/18 [==============================] - 0s 3ms/step - loss: 0.0377 - mse: 0.0377 - mae: 0.1938 - val_loss: 0.0373 - val_mse: 0.0373 - val_mae: 0.1928\n",
            "Epoch 35/100\n",
            "18/18 [==============================] - 0s 4ms/step - loss: 0.0363 - mse: 0.0363 - mae: 0.1902 - val_loss: 0.0359 - val_mse: 0.0359 - val_mae: 0.1893\n",
            "Epoch 36/100\n",
            "18/18 [==============================] - 0s 5ms/step - loss: 0.0350 - mse: 0.0350 - mae: 0.1867 - val_loss: 0.0347 - val_mse: 0.0347 - val_mae: 0.1859\n",
            "Epoch 37/100\n",
            "18/18 [==============================] - 0s 5ms/step - loss: 0.0338 - mse: 0.0338 - mae: 0.1834 - val_loss: 0.0335 - val_mse: 0.0335 - val_mae: 0.1826\n",
            "Epoch 38/100\n",
            "18/18 [==============================] - 0s 3ms/step - loss: 0.0326 - mse: 0.0326 - mae: 0.1802 - val_loss: 0.0323 - val_mse: 0.0323 - val_mae: 0.1795\n",
            "Epoch 39/100\n",
            "18/18 [==============================] - 0s 4ms/step - loss: 0.0315 - mse: 0.0315 - mae: 0.1771 - val_loss: 0.0312 - val_mse: 0.0312 - val_mae: 0.1764\n",
            "Epoch 40/100\n",
            "18/18 [==============================] - 0s 5ms/step - loss: 0.0305 - mse: 0.0305 - mae: 0.1741 - val_loss: 0.0302 - val_mse: 0.0302 - val_mae: 0.1735\n",
            "Epoch 41/100\n",
            "18/18 [==============================] - 0s 3ms/step - loss: 0.0295 - mse: 0.0295 - mae: 0.1712 - val_loss: 0.0292 - val_mse: 0.0292 - val_mae: 0.1707\n",
            "Epoch 42/100\n",
            "18/18 [==============================] - 0s 5ms/step - loss: 0.0285 - mse: 0.0285 - mae: 0.1684 - val_loss: 0.0283 - val_mse: 0.0283 - val_mae: 0.1679\n",
            "Epoch 43/100\n",
            "18/18 [==============================] - 0s 4ms/step - loss: 0.0276 - mse: 0.0276 - mae: 0.1657 - val_loss: 0.0274 - val_mse: 0.0274 - val_mae: 0.1652\n",
            "Epoch 44/100\n",
            "18/18 [==============================] - 0s 3ms/step - loss: 0.0267 - mse: 0.0267 - mae: 0.1631 - val_loss: 0.0266 - val_mse: 0.0266 - val_mae: 0.1627\n",
            "Epoch 45/100\n",
            "18/18 [==============================] - 0s 4ms/step - loss: 0.0259 - mse: 0.0259 - mae: 0.1605 - val_loss: 0.0257 - val_mse: 0.0257 - val_mae: 0.1602\n",
            "Epoch 46/100\n",
            "18/18 [==============================] - 0s 4ms/step - loss: 0.0251 - mse: 0.0251 - mae: 0.1581 - val_loss: 0.0250 - val_mse: 0.0250 - val_mae: 0.1578\n",
            "Epoch 47/100\n",
            "18/18 [==============================] - 0s 4ms/step - loss: 0.0244 - mse: 0.0244 - mae: 0.1557 - val_loss: 0.0242 - val_mse: 0.0242 - val_mae: 0.1554\n",
            "Epoch 48/100\n",
            "18/18 [==============================] - 0s 4ms/step - loss: 0.0237 - mse: 0.0237 - mae: 0.1534 - val_loss: 0.0235 - val_mse: 0.0235 - val_mae: 0.1531\n",
            "Epoch 49/100\n",
            "18/18 [==============================] - 0s 4ms/step - loss: 0.0230 - mse: 0.0230 - mae: 0.1511 - val_loss: 0.0229 - val_mse: 0.0229 - val_mae: 0.1509\n",
            "Epoch 50/100\n",
            "18/18 [==============================] - 0s 4ms/step - loss: 0.0223 - mse: 0.0223 - mae: 0.1490 - val_loss: 0.0222 - val_mse: 0.0222 - val_mae: 0.1488\n",
            "Epoch 51/100\n",
            "18/18 [==============================] - 0s 5ms/step - loss: 0.0217 - mse: 0.0217 - mae: 0.1468 - val_loss: 0.0216 - val_mse: 0.0216 - val_mae: 0.1467\n",
            "Epoch 52/100\n",
            "18/18 [==============================] - 0s 5ms/step - loss: 0.0211 - mse: 0.0211 - mae: 0.1448 - val_loss: 0.0210 - val_mse: 0.0210 - val_mae: 0.1447\n",
            "Epoch 53/100\n",
            "18/18 [==============================] - 0s 5ms/step - loss: 0.0205 - mse: 0.0205 - mae: 0.1428 - val_loss: 0.0205 - val_mse: 0.0205 - val_mae: 0.1427\n",
            "Epoch 54/100\n",
            "18/18 [==============================] - 0s 4ms/step - loss: 0.0200 - mse: 0.0200 - mae: 0.1409 - val_loss: 0.0199 - val_mse: 0.0199 - val_mae: 0.1408\n",
            "Epoch 55/100\n",
            "18/18 [==============================] - 0s 4ms/step - loss: 0.0195 - mse: 0.0195 - mae: 0.1390 - val_loss: 0.0194 - val_mse: 0.0194 - val_mae: 0.1390\n",
            "Epoch 56/100\n",
            "18/18 [==============================] - 0s 4ms/step - loss: 0.0190 - mse: 0.0190 - mae: 0.1372 - val_loss: 0.0189 - val_mse: 0.0189 - val_mae: 0.1372\n",
            "Epoch 57/100\n",
            "18/18 [==============================] - 0s 4ms/step - loss: 0.0185 - mse: 0.0185 - mae: 0.1354 - val_loss: 0.0184 - val_mse: 0.0184 - val_mae: 0.1354\n",
            "Epoch 58/100\n",
            "18/18 [==============================] - 0s 5ms/step - loss: 0.0180 - mse: 0.0180 - mae: 0.1336 - val_loss: 0.0180 - val_mse: 0.0180 - val_mae: 0.1337\n",
            "Epoch 59/100\n",
            "18/18 [==============================] - 0s 5ms/step - loss: 0.0176 - mse: 0.0176 - mae: 0.1320 - val_loss: 0.0175 - val_mse: 0.0175 - val_mae: 0.1320\n",
            "Epoch 60/100\n",
            "18/18 [==============================] - 0s 4ms/step - loss: 0.0171 - mse: 0.0171 - mae: 0.1303 - val_loss: 0.0171 - val_mse: 0.0171 - val_mae: 0.1304\n",
            "Epoch 61/100\n",
            "18/18 [==============================] - 0s 4ms/step - loss: 0.0167 - mse: 0.0167 - mae: 0.1287 - val_loss: 0.0167 - val_mse: 0.0167 - val_mae: 0.1288\n",
            "Epoch 62/100\n",
            "18/18 [==============================] - 0s 5ms/step - loss: 0.0163 - mse: 0.0163 - mae: 0.1271 - val_loss: 0.0163 - val_mse: 0.0163 - val_mae: 0.1273\n",
            "Epoch 63/100\n",
            "18/18 [==============================] - 0s 5ms/step - loss: 0.0159 - mse: 0.0159 - mae: 0.1256 - val_loss: 0.0159 - val_mse: 0.0159 - val_mae: 0.1258\n",
            "Epoch 64/100\n",
            "18/18 [==============================] - 0s 4ms/step - loss: 0.0156 - mse: 0.0156 - mae: 0.1241 - val_loss: 0.0155 - val_mse: 0.0155 - val_mae: 0.1243\n",
            "Epoch 65/100\n",
            "18/18 [==============================] - 0s 5ms/step - loss: 0.0152 - mse: 0.0152 - mae: 0.1227 - val_loss: 0.0152 - val_mse: 0.0152 - val_mae: 0.1229\n",
            "Epoch 66/100\n",
            "18/18 [==============================] - 0s 5ms/step - loss: 0.0148 - mse: 0.0148 - mae: 0.1213 - val_loss: 0.0149 - val_mse: 0.0149 - val_mae: 0.1215\n",
            "Epoch 67/100\n",
            "18/18 [==============================] - 0s 4ms/step - loss: 0.0145 - mse: 0.0145 - mae: 0.1199 - val_loss: 0.0145 - val_mse: 0.0145 - val_mae: 0.1201\n",
            "Epoch 68/100\n",
            "18/18 [==============================] - 0s 3ms/step - loss: 0.0142 - mse: 0.0142 - mae: 0.1185 - val_loss: 0.0142 - val_mse: 0.0142 - val_mae: 0.1188\n",
            "Epoch 69/100\n",
            "18/18 [==============================] - 0s 5ms/step - loss: 0.0139 - mse: 0.0139 - mae: 0.1172 - val_loss: 0.0139 - val_mse: 0.0139 - val_mae: 0.1175\n",
            "Epoch 70/100\n",
            "18/18 [==============================] - 0s 6ms/step - loss: 0.0136 - mse: 0.0136 - mae: 0.1159 - val_loss: 0.0136 - val_mse: 0.0136 - val_mae: 0.1162\n",
            "Epoch 71/100\n",
            "18/18 [==============================] - 0s 3ms/step - loss: 0.0133 - mse: 0.0133 - mae: 0.1146 - val_loss: 0.0133 - val_mse: 0.0133 - val_mae: 0.1150\n",
            "Epoch 72/100\n",
            "18/18 [==============================] - 0s 4ms/step - loss: 0.0130 - mse: 0.0130 - mae: 0.1134 - val_loss: 0.0130 - val_mse: 0.0130 - val_mae: 0.1137\n",
            "Epoch 73/100\n",
            "18/18 [==============================] - 0s 3ms/step - loss: 0.0127 - mse: 0.0127 - mae: 0.1122 - val_loss: 0.0128 - val_mse: 0.0128 - val_mae: 0.1125\n",
            "Epoch 74/100\n",
            "18/18 [==============================] - 0s 4ms/step - loss: 0.0125 - mse: 0.0125 - mae: 0.1110 - val_loss: 0.0125 - val_mse: 0.0125 - val_mae: 0.1114\n",
            "Epoch 75/100\n",
            "18/18 [==============================] - 0s 6ms/step - loss: 0.0122 - mse: 0.0122 - mae: 0.1099 - val_loss: 0.0122 - val_mse: 0.0122 - val_mae: 0.1102\n",
            "Epoch 76/100\n",
            "18/18 [==============================] - 0s 4ms/step - loss: 0.0120 - mse: 0.0120 - mae: 0.1087 - val_loss: 0.0120 - val_mse: 0.0120 - val_mae: 0.1091\n",
            "Epoch 77/100\n",
            "18/18 [==============================] - 0s 4ms/step - loss: 0.0117 - mse: 0.0117 - mae: 0.1076 - val_loss: 0.0118 - val_mse: 0.0118 - val_mae: 0.1080\n",
            "Epoch 78/100\n",
            "18/18 [==============================] - 0s 4ms/step - loss: 0.0115 - mse: 0.0115 - mae: 0.1065 - val_loss: 0.0115 - val_mse: 0.0115 - val_mae: 0.1069\n",
            "Epoch 79/100\n",
            "18/18 [==============================] - 0s 4ms/step - loss: 0.0113 - mse: 0.0113 - mae: 0.1055 - val_loss: 0.0113 - val_mse: 0.0113 - val_mae: 0.1059\n",
            "Epoch 80/100\n",
            "18/18 [==============================] - 0s 7ms/step - loss: 0.0111 - mse: 0.0111 - mae: 0.1044 - val_loss: 0.0111 - val_mse: 0.0111 - val_mae: 0.1049\n",
            "Epoch 81/100\n",
            "18/18 [==============================] - 0s 7ms/step - loss: 0.0108 - mse: 0.0108 - mae: 0.1034 - val_loss: 0.0109 - val_mse: 0.0109 - val_mae: 0.1039\n",
            "Epoch 82/100\n",
            "18/18 [==============================] - 0s 9ms/step - loss: 0.0106 - mse: 0.0106 - mae: 0.1024 - val_loss: 0.0107 - val_mse: 0.0107 - val_mae: 0.1029\n",
            "Epoch 83/100\n",
            "18/18 [==============================] - 0s 8ms/step - loss: 0.0104 - mse: 0.0104 - mae: 0.1014 - val_loss: 0.0105 - val_mse: 0.0105 - val_mae: 0.1019\n",
            "Epoch 84/100\n",
            "18/18 [==============================] - 0s 8ms/step - loss: 0.0102 - mse: 0.0102 - mae: 0.1005 - val_loss: 0.0103 - val_mse: 0.0103 - val_mae: 0.1010\n",
            "Epoch 85/100\n",
            "18/18 [==============================] - 0s 7ms/step - loss: 0.0101 - mse: 0.0101 - mae: 0.0995 - val_loss: 0.0101 - val_mse: 0.0101 - val_mae: 0.1000\n",
            "Epoch 86/100\n",
            "18/18 [==============================] - 0s 5ms/step - loss: 0.0099 - mse: 0.0099 - mae: 0.0986 - val_loss: 0.0099 - val_mse: 0.0099 - val_mae: 0.0991\n",
            "Epoch 87/100\n",
            "18/18 [==============================] - 0s 3ms/step - loss: 0.0097 - mse: 0.0097 - mae: 0.0977 - val_loss: 0.0097 - val_mse: 0.0097 - val_mae: 0.0982\n",
            "Epoch 88/100\n",
            "18/18 [==============================] - 0s 3ms/step - loss: 0.0095 - mse: 0.0095 - mae: 0.0968 - val_loss: 0.0096 - val_mse: 0.0096 - val_mae: 0.0973\n",
            "Epoch 89/100\n",
            "18/18 [==============================] - 0s 6ms/step - loss: 0.0094 - mse: 0.0094 - mae: 0.0960 - val_loss: 0.0094 - val_mse: 0.0094 - val_mae: 0.0965\n",
            "Epoch 90/100\n",
            "18/18 [==============================] - 0s 4ms/step - loss: 0.0092 - mse: 0.0092 - mae: 0.0951 - val_loss: 0.0092 - val_mse: 0.0092 - val_mae: 0.0956\n",
            "Epoch 91/100\n",
            "18/18 [==============================] - 0s 4ms/step - loss: 0.0090 - mse: 0.0090 - mae: 0.0942 - val_loss: 0.0091 - val_mse: 0.0091 - val_mae: 0.0948\n",
            "Epoch 92/100\n",
            "18/18 [==============================] - 0s 4ms/step - loss: 0.0089 - mse: 0.0089 - mae: 0.0934 - val_loss: 0.0089 - val_mse: 0.0089 - val_mae: 0.0940\n",
            "Epoch 93/100\n",
            "18/18 [==============================] - 0s 5ms/step - loss: 0.0087 - mse: 0.0087 - mae: 0.0926 - val_loss: 0.0088 - val_mse: 0.0088 - val_mae: 0.0932\n",
            "Epoch 94/100\n",
            "18/18 [==============================] - 0s 4ms/step - loss: 0.0086 - mse: 0.0086 - mae: 0.0918 - val_loss: 0.0086 - val_mse: 0.0086 - val_mae: 0.0924\n",
            "Epoch 95/100\n",
            "18/18 [==============================] - 0s 5ms/step - loss: 0.0084 - mse: 0.0084 - mae: 0.0910 - val_loss: 0.0085 - val_mse: 0.0085 - val_mae: 0.0916\n",
            "Epoch 96/100\n",
            "18/18 [==============================] - 0s 5ms/step - loss: 0.0083 - mse: 0.0083 - mae: 0.0903 - val_loss: 0.0083 - val_mse: 0.0083 - val_mae: 0.0908\n",
            "Epoch 97/100\n",
            "18/18 [==============================] - 0s 4ms/step - loss: 0.0082 - mse: 0.0082 - mae: 0.0895 - val_loss: 0.0082 - val_mse: 0.0082 - val_mae: 0.0901\n",
            "Epoch 98/100\n",
            "18/18 [==============================] - 0s 3ms/step - loss: 0.0080 - mse: 0.0080 - mae: 0.0888 - val_loss: 0.0081 - val_mse: 0.0081 - val_mae: 0.0893\n",
            "Epoch 99/100\n",
            "18/18 [==============================] - 0s 4ms/step - loss: 0.0079 - mse: 0.0079 - mae: 0.0880 - val_loss: 0.0079 - val_mse: 0.0079 - val_mae: 0.0886\n",
            "Epoch 100/100\n",
            "18/18 [==============================] - 0s 4ms/step - loss: 0.0078 - mse: 0.0078 - mae: 0.0873 - val_loss: 0.0078 - val_mse: 0.0078 - val_mae: 0.0879\n",
            "Model: \"BostonHousing\"\n",
            "_________________________________________________________________\n",
            " Layer (type)                Output Shape              Param #   \n",
            "=================================================================\n",
            " Hidden-1 (Dense)            (None, 8)                 112       \n",
            "                                                                 \n",
            " Hidden-2 (Dense)            (None, 3)                 27        \n",
            "                                                                 \n",
            " Output (Dense)              (None, 1)                 4         \n",
            "                                                                 \n",
            "=================================================================\n",
            "Total params: 143\n",
            "Trainable params: 143\n",
            "Non-trainable params: 0\n",
            "_________________________________________________________________\n",
            "None \n",
            "\n"
          ]
        }
      ]
    },
    {
      "cell_type": "code",
      "source": [
        "## Plotting neural network model using sigmoid function with Input, Hidden & Output layers ##\n",
        "plot_model(neural_model, to_file='sigmoid_model.png', show_shapes=True, show_layer_names=True)\n",
        "Image('sigmoid_model.png')"
      ],
      "metadata": {
        "colab": {
          "base_uri": "https://localhost:8080/",
          "height": 422
        },
        "id": "C39IwQvkrwig",
        "outputId": "40d04b4c-9be1-48d0-c5da-f437e3ff8405"
      },
      "execution_count": 76,
      "outputs": [
        {
          "output_type": "execute_result",
          "data": {
            "image/png": "[encoded data removed]",
            "text/plain": [
              "<IPython.core.display.Image object>"
            ]
          },
          "metadata": {},
          "execution_count": 76
        }
      ]
    },
    {
      "cell_type": "code",
      "source": [
        "## Train & Test Evaluation of the model to calculate the accuracy ##\n",
        "train_eval = neural_model.evaluate(X_train, Y_train)\n",
        "test_eval = neural_model.evaluate(X_test, Y_test)\n",
        "\n",
        "print(\"\\n\")\n",
        "for i in range(len(test_eval)):\n",
        "    print(f'{neural_model.metrics_names[i]} — -> {test_eval[i]}')\n",
        "\n",
        "\n",
        "## Calculating accuracy using Root Mean Square Error & Root Mean Average Error of the model ##\n",
        "print('\\nTesting Accuracy Score wrt MSE:', (100 - (np.sqrt(np.mean(hist.history['mse'])))))\n",
        "print('\\nTesting Accuracy Score wrt MAE:', (100 - (np.sqrt(np.mean(hist.history['mae'])))))"
      ],
      "metadata": {
        "colab": {
          "base_uri": "https://localhost:8080/"
        },
        "id": "5P4R3_OhhCAl",
        "outputId": "658282f7-f0bc-4436-85a2-37033f9a5fb4"
      },
      "execution_count": 77,
      "outputs": [
        {
          "output_type": "stream",
          "name": "stdout",
          "text": [
            "7/7 [==============================] - 0s 3ms/step - loss: 0.0077 - mse: 0.0077 - mae: 0.0869\n",
            "2/2 [==============================] - 0s 7ms/step - loss: 0.0078 - mse: 0.0078 - mae: 0.0879\n",
            "\n",
            "\n",
            "loss — -> 0.007819741033017635\n",
            "mse — -> 0.007819741033017635\n",
            "mae — -> 0.08789669722318649\n",
            "\n",
            "Testing Accuracy Score wrt MSE: 99.79161248509439\n",
            "\n",
            "Testing Accuracy Score wrt MAE: 99.57092823119844\n"
          ]
        }
      ]
    },
    {
      "cell_type": "code",
      "source": [
        "# Plot loss during the model fitting of train & test split ##\n",
        "pyplot.title('Training Loss')\n",
        "pyplot.plot(hist.history['loss'], label = 'Train')\n",
        "pyplot.plot(hist.history['val_loss'], label = 'Test')\n",
        "pyplot.legend()"
      ],
      "metadata": {
        "colab": {
          "base_uri": "https://localhost:8080/",
          "height": 298
        },
        "id": "LVA8Fec1p8RO",
        "outputId": "c8ab254a-4c53-4489-98b9-83c2452e6032"
      },
      "execution_count": 78,
      "outputs": [
        {
          "output_type": "execute_result",
          "data": {
            "text/plain": [
              "<matplotlib.legend.Legend at 0x7fbfdcf7ec10>"
            ]
          },
          "metadata": {},
          "execution_count": 78
        },
        {
          "output_type": "display_data",
          "data": {
            "text/plain": [
              "<Figure size 432x288 with 1 Axes>"
            ],
            "image/png": "[encoded data removed]"
          },
          "metadata": {
            "needs_background": "light"
          }
        }
      ]
    }
  ]
}